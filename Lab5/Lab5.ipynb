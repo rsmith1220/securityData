{
 "cells": [
  {
   "cell_type": "markdown",
   "metadata": {},
   "source": [
    "Parte 1 – Filtrado y preprocesamiento\n",
    "\n",
    "Cargue la información del archivo large_even.json en una lista, muestre la cantidad de\n",
    "registros total (deben ser 746, 909). Este es nuestro tráfico inicial!"
   ]
  },
  {
   "cell_type": "code",
   "execution_count": 2,
   "metadata": {},
   "outputs": [
    {
     "name": "stdout",
     "output_type": "stream",
     "text": [
      "Total de registros en el archivo: 746909\n"
     ]
    }
   ],
   "source": [
    "import json\n",
    "\n",
    "\n",
    "total_records = 0\n",
    "dns_events = []\n",
    "all_events=[]\n",
    "\n",
    "\n",
    "with open('large_eve.json', 'r') as file:\n",
    "    for line in file:\n",
    "        total_records += 1\n",
    "        try:\n",
    "            \n",
    "            data = json.loads(line)\n",
    "            all_events.append(data)\n",
    "            if data.get('event_type') == 'dns':\n",
    "                dns_events.append(data)\n",
    "        \n",
    "            # print(data)\n",
    "        except json.JSONDecodeError as e:\n",
    "            print(f\"Error en la línea: {line}\")\n",
    "            print(f\"Detalles del error: {e}\")\n",
    "print(f\"Total de registros en el archivo: {total_records}\")"
   ]
  },
  {
   "cell_type": "markdown",
   "metadata": {},
   "source": [
    "Debido a que estamos buscando dominios web, del total de registros, solamente estamos\n",
    "interesados en los registros DNS. Cargue únicamente aquellos registros que sean DNS."
   ]
  },
  {
   "cell_type": "code",
   "execution_count": 3,
   "metadata": {},
   "outputs": [
    {
     "name": "stdout",
     "output_type": "stream",
     "text": [
      "15749 eventos DNS guardados en 'dns_events.json'.\n"
     ]
    }
   ],
   "source": [
    "\n",
    "# Guardar los eventos DNS en un nuevo archivo JSON\n",
    "with open('dns_events.json', 'w') as outfile:\n",
    "    json.dump(dns_events, outfile, indent=4)\n",
    "\n",
    "print(f\"{len(dns_events)} eventos DNS guardados en 'dns_events.json'.\")"
   ]
  },
  {
   "cell_type": "markdown",
   "metadata": {},
   "source": [
    "Muestre la información de 2 registros cualesquiera"
   ]
  },
  {
   "cell_type": "code",
   "execution_count": 4,
   "metadata": {},
   "outputs": [
    {
     "name": "stdout",
     "output_type": "stream",
     "text": [
      "{'timestamp': '2017-07-22T17:33:17.786254-0500', 'flow_id': 1135816796360543, 'pcap_cnt': 30365, 'event_type': 'http', 'vlan': 140, 'src_ip': '192.168.204.59', 'src_port': 38012, 'dest_ip': '192.168.24.201', 'dest_port': 80, 'proto': 'TCP', 'tx_id': 1, 'http': {'hostname': '192.168.24.201', 'url': '/phppgadmin/browser.php', 'http_user_agent': 'Mozilla/5.0 (X11; U; Linux i686; en-US; rv:1.9.0.15) Gecko/2009102814 Ubuntu/8.10 (intrepid) Firefox/3.0.15', 'http_content_type': 'text/html', 'http_refer': 'http://192.168.24.201/phppgadmin/', 'http_method': 'GET', 'protocol': 'HTTP/1.1', 'status': 200, 'length': 1125}}\n",
      "{'timestamp': '2017-07-22T17:33:18.003156-0500', 'flow_id': 1135816796360543, 'pcap_cnt': 32000, 'event_type': 'http', 'vlan': 140, 'src_ip': '192.168.204.59', 'src_port': 38012, 'dest_ip': '192.168.24.201', 'dest_port': 80, 'proto': 'TCP', 'tx_id': 5, 'http': {'hostname': '192.168.24.201', 'url': '/phppgadmin/xloadtree/xloadtree2.js', 'http_user_agent': 'Mozilla/5.0 (X11; U; Linux i686; en-US; rv:1.9.0.15) Gecko/2009102814 Ubuntu/8.10 (intrepid) Firefox/3.0.15', 'http_content_type': 'application/javascript', 'http_refer': 'http://192.168.24.201/phppgadmin/browser.php', 'http_method': 'GET', 'protocol': 'HTTP/1.1', 'status': 200, 'length': 4159}}\n"
     ]
    }
   ],
   "source": [
    "print(all_events[12])\n",
    "print(all_events[20])"
   ]
  },
  {
   "cell_type": "markdown",
   "metadata": {},
   "source": [
    "Debido a que la data consiste en estructuras JSON anidadas, utilice la característica\n",
    "json_normalize para normalizar la información y asignarla en un dataframe. Muestre el shape\n",
    "del dataframe"
   ]
  },
  {
   "cell_type": "code",
   "execution_count": 5,
   "metadata": {},
   "outputs": [
    {
     "name": "stdout",
     "output_type": "stream",
     "text": [
      "Shape del DataFrame: (746909, 199)\n"
     ]
    }
   ],
   "source": [
    "from pandas import json_normalize\n",
    "\n",
    "# Normalizar la data JSON anidada\n",
    "df = json_normalize(all_events)\n",
    "\n",
    "# Mostrar shape del DataFrame\n",
    "print(\"Shape del DataFrame:\", df.shape)"
   ]
  },
  {
   "cell_type": "markdown",
   "metadata": {},
   "source": [
    "Como estamos buscando dominios DGA, debemos filtrar los registros DNS para aquellos\n",
    "registros tipo A (son aquellos que mantienen una dirección IP asociada a un dominio)"
   ]
  },
  {
   "cell_type": "code",
   "execution_count": 6,
   "metadata": {},
   "outputs": [
    {
     "name": "stdout",
     "output_type": "stream",
     "text": [
      "Cantidad de consultas DNS tipo A: 2849\n"
     ]
    }
   ],
   "source": [
    "import json\n",
    "\n",
    "# Cargar los eventos DNS guardados\n",
    "with open('dns_events.json', 'r') as f:\n",
    "    dns_events = json.load(f)\n",
    "\n",
    "# Filtrar consultas DNS donde rrtype sea 'A'\n",
    "dns_rrtype_a = [\n",
    "    event for event in dns_events\n",
    "    if event.get(\"dns\", {}).get(\"rrtype\") == \"A\"\n",
    "]\n",
    "\n",
    "# Mostrar cantidad de registros con rrtype A\n",
    "print(\"Cantidad de consultas DNS tipo A:\", len(dns_rrtype_a))\n"
   ]
  },
  {
   "cell_type": "markdown",
   "metadata": {},
   "source": [
    "Filtre los dominios únicos"
   ]
  },
  {
   "cell_type": "code",
   "execution_count": 7,
   "metadata": {},
   "outputs": [
    {
     "name": "stdout",
     "output_type": "stream",
     "text": [
      "Cantidad de dominios únicos: 177\n",
      "Ejemplo de dominios únicos:\n",
      "- \n",
      "- www.arduino.cc\n",
      "- www.freepbx.org\n",
      "- tools.google.com.ad.aol.aoltw.net\n",
      "- ueip.vmware.com\n",
      "- secure.informaction.com.home\n",
      "- widgets.alexa.com\n",
      "- gg.arrancar.org\n",
      "- www.sql-ledger.org\n",
      "- mirrors.tummy.com\n"
     ]
    }
   ],
   "source": [
    "# Extraer los dominios (rrname) de los eventos DNS tipo A\n",
    "dominios = [event[\"dns\"][\"rrname\"] for event in dns_rrtype_a if \"rrname\" in event[\"dns\"]]\n",
    "\n",
    "# Obtener dominios únicos\n",
    "dominios_unicos = set(dominios)\n",
    "\n",
    "# Mostrar cantidad y ejemplo\n",
    "print(f\"Cantidad de dominios únicos: {len(dominios_unicos)}\")\n",
    "print(\"Ejemplo de dominios únicos:\")\n",
    "for dominio in list(dominios_unicos)[:10]:\n",
    "    print(\"-\", dominio)\n"
   ]
  },
  {
   "cell_type": "markdown",
   "metadata": {},
   "source": [
    "Escriba una función que obtenga el TLD para un dominio. Por ejemplo, para\n",
    "api.wunderground.com el TLD es wunderground.com, para\n",
    "safebrowsing.clients.google.com.home, el TLD es home. Utilice un LLM para ayudarle a\n",
    "escribir esta función, verifique que obtiene correctamente el TLD, incluya el prompt utilizado\n",
    "en su notebook."
   ]
  },
  {
   "cell_type": "code",
   "execution_count": 8,
   "metadata": {},
   "outputs": [
    {
     "name": "stdout",
     "output_type": "stream",
     "text": [
      "Cantidad de TLDs únicos: 106\n",
      "Ejemplo de TLDs únicos:\n",
      "- \n",
      "- youtube.com\n",
      "- tummy.com\n",
      "- nvidia.com\n",
      "- 22.201:\n",
      "- mozilla.com\n",
      "- usf.edu\n",
      "- sql-ledger.org\n",
      "- bluehost.com\n",
      "- umoss.org\n"
     ]
    }
   ],
   "source": [
    "# 1. Función para extraer el TLD\n",
    "def obtener_tld(dominio):\n",
    "    \"\"\"\n",
    "    Extrae el TLD personalizado de un dominio.\n",
    "    - Si termina en '.home', retorna 'home'.\n",
    "    - Si tiene múltiples subdominios, retorna los dos últimos segmentos (como dominio.tld).\n",
    "    \"\"\"\n",
    "    partes = dominio.strip('.').split('.')\n",
    "    if len(partes) == 1:\n",
    "        return partes[0]\n",
    "    elif partes[-1] == \"home\":\n",
    "        return \"home\"\n",
    "    else:\n",
    "        return \".\".join(partes[-2:])  # dominio.tld\n",
    "\n",
    "# 2. Extraer los dominios de los registros DNS tipo A\n",
    "dominios = [event[\"dns\"][\"rrname\"] for event in dns_rrtype_a if \"rrname\" in event[\"dns\"]]\n",
    "\n",
    "# 3. Obtener TLDs aplicando la función\n",
    "tlds = [obtener_tld(d) for d in dominios]\n",
    "\n",
    "# 4. Mostrar algunos TLDs únicos y su cantidad\n",
    "tlds_unicos = set(tlds)\n",
    "print(f\"Cantidad de TLDs únicos: {len(tlds_unicos)}\")\n",
    "\n",
    "print(\"Ejemplo de TLDs únicos:\")\n",
    "for t in list(tlds_unicos)[:10]:\n",
    "    print(\"-\", t)\n"
   ]
  }
 ],
 "metadata": {
  "kernelspec": {
   "display_name": "Python 3",
   "language": "python",
   "name": "python3"
  },
  "language_info": {
   "codemirror_mode": {
    "name": "ipython",
    "version": 3
   },
   "file_extension": ".py",
   "mimetype": "text/x-python",
   "name": "python",
   "nbconvert_exporter": "python",
   "pygments_lexer": "ipython3",
   "version": "3.11.9"
  }
 },
 "nbformat": 4,
 "nbformat_minor": 2
}
