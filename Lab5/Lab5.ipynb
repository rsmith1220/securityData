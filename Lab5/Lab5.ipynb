{
 "cells": [
  {
   "cell_type": "markdown",
   "metadata": {},
   "source": [
    "Parte 1 – Filtrado y preprocesamiento\n",
    "\n",
    "Cargue la información del archivo large_even.json en una lista, muestre la cantidad de\n",
    "registros total (deben ser 746, 909). Este es nuestro tráfico inicial!"
   ]
  },
  {
   "cell_type": "code",
   "execution_count": 10,
   "metadata": {},
   "outputs": [
    {
     "name": "stdout",
     "output_type": "stream",
     "text": [
      "Total de registros en el archivo: 746909\n"
     ]
    }
   ],
   "source": [
    "import json\n",
    "\n",
    "\n",
    "total_records = 0\n",
    "dns_events = []\n",
    "all_events=[]\n",
    "\n",
    "\n",
    "with open('large_eve.json', 'r') as file:\n",
    "    for line in file:\n",
    "        total_records += 1\n",
    "        try:\n",
    "            \n",
    "            data = json.loads(line)\n",
    "            all_events.append(data)\n",
    "            if data.get('event_type') == 'dns':\n",
    "                dns_events.append(data)\n",
    "        \n",
    "            # print(data)\n",
    "        except json.JSONDecodeError as e:\n",
    "            print(f\"Error en la línea: {line}\")\n",
    "            print(f\"Detalles del error: {e}\")\n",
    "print(f\"Total de registros en el archivo: {total_records}\")"
   ]
  },
  {
   "cell_type": "markdown",
   "metadata": {},
   "source": [
    "Debido a que estamos buscando dominios web, del total de registros, solamente estamos\n",
    "interesados en los registros DNS. Cargue únicamente aquellos registros que sean DNS."
   ]
  },
  {
   "cell_type": "code",
   "execution_count": 11,
   "metadata": {},
   "outputs": [
    {
     "name": "stdout",
     "output_type": "stream",
     "text": [
      "15749 eventos DNS guardados en 'dns_events.json'.\n"
     ]
    }
   ],
   "source": [
    "\n",
    "# Guardar los eventos DNS en un nuevo archivo JSON\n",
    "with open('dns_events.json', 'w') as outfile:\n",
    "    json.dump(dns_events, outfile, indent=4)\n",
    "\n",
    "print(f\"{len(dns_events)} eventos DNS guardados en 'dns_events.json'.\")"
   ]
  },
  {
   "cell_type": "markdown",
   "metadata": {},
   "source": [
    "Muestre la información de 2 registros cualesquiera"
   ]
  },
  {
   "cell_type": "code",
   "execution_count": 12,
   "metadata": {},
   "outputs": [
    {
     "name": "stdout",
     "output_type": "stream",
     "text": [
      "{'timestamp': '2017-07-22T17:33:17.786254-0500', 'flow_id': 1135816796360543, 'pcap_cnt': 30365, 'event_type': 'http', 'vlan': 140, 'src_ip': '192.168.204.59', 'src_port': 38012, 'dest_ip': '192.168.24.201', 'dest_port': 80, 'proto': 'TCP', 'tx_id': 1, 'http': {'hostname': '192.168.24.201', 'url': '/phppgadmin/browser.php', 'http_user_agent': 'Mozilla/5.0 (X11; U; Linux i686; en-US; rv:1.9.0.15) Gecko/2009102814 Ubuntu/8.10 (intrepid) Firefox/3.0.15', 'http_content_type': 'text/html', 'http_refer': 'http://192.168.24.201/phppgadmin/', 'http_method': 'GET', 'protocol': 'HTTP/1.1', 'status': 200, 'length': 1125}}\n",
      "{'timestamp': '2017-07-22T17:33:18.003156-0500', 'flow_id': 1135816796360543, 'pcap_cnt': 32000, 'event_type': 'http', 'vlan': 140, 'src_ip': '192.168.204.59', 'src_port': 38012, 'dest_ip': '192.168.24.201', 'dest_port': 80, 'proto': 'TCP', 'tx_id': 5, 'http': {'hostname': '192.168.24.201', 'url': '/phppgadmin/xloadtree/xloadtree2.js', 'http_user_agent': 'Mozilla/5.0 (X11; U; Linux i686; en-US; rv:1.9.0.15) Gecko/2009102814 Ubuntu/8.10 (intrepid) Firefox/3.0.15', 'http_content_type': 'application/javascript', 'http_refer': 'http://192.168.24.201/phppgadmin/browser.php', 'http_method': 'GET', 'protocol': 'HTTP/1.1', 'status': 200, 'length': 4159}}\n"
     ]
    }
   ],
   "source": [
    "print(all_events[12])\n",
    "print(all_events[20])"
   ]
  },
  {
   "cell_type": "markdown",
   "metadata": {},
   "source": [
    "Debido a que la data consiste en estructuras JSON anidadas, utilice la característica\n",
    "json_normalize para normalizar la información y asignarla en un dataframe. Muestre el shape\n",
    "del dataframe"
   ]
  },
  {
   "cell_type": "code",
   "execution_count": 15,
   "metadata": {},
   "outputs": [
    {
     "name": "stdout",
     "output_type": "stream",
     "text": [
      "Shape del DataFrame: (746909, 199)\n"
     ]
    }
   ],
   "source": [
    "from pandas import json_normalize\n",
    "\n",
    "# Normalizar la data JSON anidada\n",
    "df = json_normalize(all_events)\n",
    "\n",
    "# Mostrar shape del DataFrame\n",
    "print(\"Shape del DataFrame:\", df.shape)"
   ]
  },
  {
   "cell_type": "markdown",
   "metadata": {},
   "source": [
    "Como estamos buscando dominios DGA, debemos filtrar los registros DNS para aquellos\n",
    "registros tipo A (son aquellos que mantienen una dirección IP asociada a un dominio)"
   ]
  }
 ],
 "metadata": {
  "kernelspec": {
   "display_name": "Python 3",
   "language": "python",
   "name": "python3"
  },
  "language_info": {
   "codemirror_mode": {
    "name": "ipython",
    "version": 3
   },
   "file_extension": ".py",
   "mimetype": "text/x-python",
   "name": "python",
   "nbconvert_exporter": "python",
   "pygments_lexer": "ipython3",
   "version": "3.11.9"
  }
 },
 "nbformat": 4,
 "nbformat_minor": 2
}
