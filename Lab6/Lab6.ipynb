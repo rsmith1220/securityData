{
 "cells": [
  {
   "cell_type": "markdown",
   "metadata": {},
   "source": [
    "a. Capture 25 paquetes de su red doméstica (no de la red de la UVG) y asígnelos a una variable.\n",
    "\n",
    "b. Imprima el tipo de variable, la longitud y el contenido de la variable.\n",
    "\n",
    "c. Imprima el tipo de dato del primer paquete capturado.\n",
    "\n",
    "d. Imprima el contenido de 5 paquetes"
   ]
  },
  {
   "cell_type": "code",
   "execution_count": 2,
   "metadata": {},
   "outputs": [
    {
     "name": "stdout",
     "output_type": "stream",
     "text": [
      "Tipo de variable: <class 'scapy.plist.PacketList'>\n",
      "Cantidad de paquetes capturados: 25\n",
      "Contenido de los paquetes:\n",
      "<Sniffed: TCP:7 UDP:18 ICMP:0 Other:0>\n",
      "Tipo del primer paquete: <class 'scapy.layers.l2.Ether'>\n",
      "Contenido de los primeros 5 paquetes:\n",
      "\n",
      "Paquete 1:\n",
      "Ether / IPv6 / UDP 2607:f8b0:4008:813::200a:https > 2800:98:1122:1389:595:e7f7:9c32:218f:57064 / Raw\n",
      "\n",
      "Paquete 2:\n",
      "Ether / IPv6 / UDP 2800:98:1122:1389:595:e7f7:9c32:218f:57064 > 2607:f8b0:4008:813::200a:https / Raw\n",
      "\n",
      "Paquete 3:\n",
      "Ether / IP / TCP 192.168.1.23:65203 > 52.182.143.210:https PA / Raw\n",
      "\n",
      "Paquete 4:\n",
      "Ether / IP / TCP 192.168.1.23:65203 > 52.182.143.210:https A / Raw\n",
      "\n",
      "Paquete 5:\n",
      "Ether / IP / TCP 192.168.1.23:65203 > 52.182.143.210:https PA / Raw\n"
     ]
    }
   ],
   "source": [
    "from scapy.all import sniff\n",
    "#25 paquetes\n",
    "paquetes = sniff(count=25)\n",
    "\n",
    "print(\"Tipo de variable:\", type(paquetes))\n",
    "\n",
    "print(\"Cantidad de paquetes capturados:\", len(paquetes))\n",
    "print(\"Contenido de los paquetes:\")\n",
    "print(paquetes)\n",
    "\n",
    "print(\"Tipo del primer paquete:\", type(paquetes[0]))\n",
    "\n",
    "print(\"Contenido de los primeros 5 paquetes:\")\n",
    "for i in range(5):\n",
    "    print(f\"\\nPaquete {i+1}:\")\n",
    "    print(paquetes[i].summary())\n"
   ]
  },
  {
   "cell_type": "markdown",
   "metadata": {},
   "source": [
    "Descargue e archivo analisis_paquetes.pcap y asignelo a una variable."
   ]
  },
  {
   "cell_type": "code",
   "execution_count": null,
   "metadata": {},
   "outputs": [],
   "source": [
    "from scapy.all import rdpcap\n",
    "\n",
    "paquetes = rdpcap(\"analisis_paquetes.pcap\")\n"
   ]
  },
  {
   "cell_type": "markdown",
   "metadata": {},
   "source": [
    "Convierta la variable a un DataFrame."
   ]
  },
  {
   "cell_type": "code",
   "execution_count": null,
   "metadata": {},
   "outputs": [],
   "source": [
    "import pandas as pd\n",
    "\n",
    "datos = []\n",
    "\n",
    "for pkt in paquetes:\n",
    "    if pkt.haslayer(\"IP\"):\n",
    "        src_ip = pkt[\"IP\"].src\n",
    "        dst_ip = pkt[\"IP\"].dst\n",
    "        src_port = pkt.sport if hasattr(pkt, 'sport') else None\n",
    "        dst_port = pkt.dport if hasattr(pkt, 'dport') else None\n",
    "        datos.append({\n",
    "            \"Src Address\": src_ip,\n",
    "            \"Dst Address\": dst_ip,\n",
    "            \"Src Port\": src_port,\n",
    "            \"Dst Port\": dst_port\n",
    "        })\n",
    "\n",
    "df = pd.DataFrame(datos)\n"
   ]
  },
  {
   "cell_type": "markdown",
   "metadata": {},
   "source": [
    "Muestre el contenido de las primeras 5 filas del dataset."
   ]
  },
  {
   "cell_type": "code",
   "execution_count": 5,
   "metadata": {},
   "outputs": [
    {
     "data": {
      "text/html": [
       "<div>\n",
       "<style scoped>\n",
       "    .dataframe tbody tr th:only-of-type {\n",
       "        vertical-align: middle;\n",
       "    }\n",
       "\n",
       "    .dataframe tbody tr th {\n",
       "        vertical-align: top;\n",
       "    }\n",
       "\n",
       "    .dataframe thead th {\n",
       "        text-align: right;\n",
       "    }\n",
       "</style>\n",
       "<table border=\"1\" class=\"dataframe\">\n",
       "  <thead>\n",
       "    <tr style=\"text-align: right;\">\n",
       "      <th></th>\n",
       "      <th>Src Address</th>\n",
       "      <th>Dst Address</th>\n",
       "      <th>Src Port</th>\n",
       "      <th>Dst Port</th>\n",
       "    </tr>\n",
       "  </thead>\n",
       "  <tbody>\n",
       "    <tr>\n",
       "      <th>0</th>\n",
       "      <td>10.1.10.53</td>\n",
       "      <td>84.54.22.33</td>\n",
       "      <td>53</td>\n",
       "      <td>53</td>\n",
       "    </tr>\n",
       "    <tr>\n",
       "      <th>1</th>\n",
       "      <td>84.54.22.33</td>\n",
       "      <td>10.1.10.53</td>\n",
       "      <td>53</td>\n",
       "      <td>53</td>\n",
       "    </tr>\n",
       "    <tr>\n",
       "      <th>2</th>\n",
       "      <td>10.1.10.53</td>\n",
       "      <td>84.54.22.33</td>\n",
       "      <td>53</td>\n",
       "      <td>53</td>\n",
       "    </tr>\n",
       "    <tr>\n",
       "      <th>3</th>\n",
       "      <td>84.54.22.33</td>\n",
       "      <td>10.1.10.53</td>\n",
       "      <td>53</td>\n",
       "      <td>53</td>\n",
       "    </tr>\n",
       "    <tr>\n",
       "      <th>4</th>\n",
       "      <td>10.1.10.53</td>\n",
       "      <td>84.54.22.33</td>\n",
       "      <td>53</td>\n",
       "      <td>53</td>\n",
       "    </tr>\n",
       "  </tbody>\n",
       "</table>\n",
       "</div>"
      ],
      "text/plain": [
       "   Src Address  Dst Address  Src Port  Dst Port\n",
       "0   10.1.10.53  84.54.22.33        53        53\n",
       "1  84.54.22.33   10.1.10.53        53        53\n",
       "2   10.1.10.53  84.54.22.33        53        53\n",
       "3  84.54.22.33   10.1.10.53        53        53\n",
       "4   10.1.10.53  84.54.22.33        53        53"
      ]
     },
     "execution_count": 5,
     "metadata": {},
     "output_type": "execute_result"
    }
   ],
   "source": [
    "df.head()"
   ]
  },
  {
   "cell_type": "markdown",
   "metadata": {},
   "source": [
    "Muestre los valores de las columnas: Src Addres, Dst Address, Src Port y Dst Port."
   ]
  },
  {
   "cell_type": "code",
   "execution_count": 6,
   "metadata": {},
   "outputs": [
    {
     "data": {
      "text/html": [
       "<div>\n",
       "<style scoped>\n",
       "    .dataframe tbody tr th:only-of-type {\n",
       "        vertical-align: middle;\n",
       "    }\n",
       "\n",
       "    .dataframe tbody tr th {\n",
       "        vertical-align: top;\n",
       "    }\n",
       "\n",
       "    .dataframe thead th {\n",
       "        text-align: right;\n",
       "    }\n",
       "</style>\n",
       "<table border=\"1\" class=\"dataframe\">\n",
       "  <thead>\n",
       "    <tr style=\"text-align: right;\">\n",
       "      <th></th>\n",
       "      <th>Src Address</th>\n",
       "      <th>Dst Address</th>\n",
       "      <th>Src Port</th>\n",
       "      <th>Dst Port</th>\n",
       "    </tr>\n",
       "  </thead>\n",
       "  <tbody>\n",
       "    <tr>\n",
       "      <th>0</th>\n",
       "      <td>10.1.10.53</td>\n",
       "      <td>84.54.22.33</td>\n",
       "      <td>53</td>\n",
       "      <td>53</td>\n",
       "    </tr>\n",
       "    <tr>\n",
       "      <th>1</th>\n",
       "      <td>84.54.22.33</td>\n",
       "      <td>10.1.10.53</td>\n",
       "      <td>53</td>\n",
       "      <td>53</td>\n",
       "    </tr>\n",
       "    <tr>\n",
       "      <th>2</th>\n",
       "      <td>10.1.10.53</td>\n",
       "      <td>84.54.22.33</td>\n",
       "      <td>53</td>\n",
       "      <td>53</td>\n",
       "    </tr>\n",
       "    <tr>\n",
       "      <th>3</th>\n",
       "      <td>84.54.22.33</td>\n",
       "      <td>10.1.10.53</td>\n",
       "      <td>53</td>\n",
       "      <td>53</td>\n",
       "    </tr>\n",
       "    <tr>\n",
       "      <th>4</th>\n",
       "      <td>10.1.10.53</td>\n",
       "      <td>84.54.22.33</td>\n",
       "      <td>53</td>\n",
       "      <td>53</td>\n",
       "    </tr>\n",
       "  </tbody>\n",
       "</table>\n",
       "</div>"
      ],
      "text/plain": [
       "   Src Address  Dst Address  Src Port  Dst Port\n",
       "0   10.1.10.53  84.54.22.33        53        53\n",
       "1  84.54.22.33   10.1.10.53        53        53\n",
       "2   10.1.10.53  84.54.22.33        53        53\n",
       "3  84.54.22.33   10.1.10.53        53        53\n",
       "4   10.1.10.53  84.54.22.33        53        53"
      ]
     },
     "execution_count": 6,
     "metadata": {},
     "output_type": "execute_result"
    }
   ],
   "source": [
    "df[[\"Src Address\", \"Dst Address\", \"Src Port\", \"Dst Port\"]].head()"
   ]
  },
  {
   "cell_type": "markdown",
   "metadata": {},
   "source": [
    "Mostrar todas las IP origen"
   ]
  },
  {
   "cell_type": "code",
   "execution_count": 7,
   "metadata": {},
   "outputs": [
    {
     "name": "stdout",
     "output_type": "stream",
     "text": [
      "Todas las IP origen:\n",
      "['10.1.10.53' '84.54.22.33' '75.75.75.75']\n"
     ]
    }
   ],
   "source": [
    "ip_origenes = df[\"Src Address\"].unique()\n",
    "print(\"Todas las IP origen:\")\n",
    "print(ip_origenes)\n"
   ]
  },
  {
   "cell_type": "markdown",
   "metadata": {},
   "source": [
    "Mostrar todas las IP destino"
   ]
  },
  {
   "cell_type": "code",
   "execution_count": 8,
   "metadata": {},
   "outputs": [
    {
     "name": "stdout",
     "output_type": "stream",
     "text": [
      "Todas las IP destino:\n",
      "['84.54.22.33' '10.1.10.53' '75.75.75.75']\n"
     ]
    }
   ],
   "source": [
    "ip_destinos = df[\"Dst Address\"].unique()\n",
    "print(\"Todas las IP destino:\")\n",
    "print(ip_destinos)\n"
   ]
  },
  {
   "cell_type": "markdown",
   "metadata": {},
   "source": [
    "¿Cuál es la IP origen más frecuente?"
   ]
  },
  {
   "cell_type": "code",
   "execution_count": 9,
   "metadata": {},
   "outputs": [
    {
     "name": "stdout",
     "output_type": "stream",
     "text": [
      "IP origen más frecuente: 10.1.10.53\n"
     ]
    }
   ],
   "source": [
    "ip_origen_frecuente = df[\"Src Address\"].value_counts().idxmax()\n",
    "print(\"IP origen más frecuente:\", ip_origen_frecuente)\n"
   ]
  },
  {
   "cell_type": "markdown",
   "metadata": {},
   "source": [
    "¿A qué IP destino se comunica con más frecuencia?"
   ]
  },
  {
   "cell_type": "code",
   "execution_count": null,
   "metadata": {},
   "outputs": [
    {
     "name": "stdout",
     "output_type": "stream",
     "text": [
      "IP destino más frecuente a la que se comunica: 84.54.22.33\n"
     ]
    }
   ],
   "source": [
    "#FIltrar para ip origen\n",
    "coms_frecuentes = df[df[\"Src Address\"] == ip_origen_frecuente]\n",
    "\n",
    "# IP destino más común desde esa IP origen\n",
    "ip_destino_frecuente = coms_frecuentes[\"Dst Address\"].value_counts().idxmax()\n",
    "print(\"IP destino más frecuente a la que se comunica:\", ip_destino_frecuente)\n"
   ]
  },
  {
   "cell_type": "markdown",
   "metadata": {},
   "source": [
    "¿A qué puerto destino se comunica? ¿Cuál es el propósito de este puerto?"
   ]
  },
  {
   "cell_type": "code",
   "execution_count": null,
   "metadata": {},
   "outputs": [
    {
     "name": "stdout",
     "output_type": "stream",
     "text": [
      "Puerto destino más frecuente: 53\n"
     ]
    }
   ],
   "source": [
    "# Puerto destino mas comun desde esa IP origen\n",
    "puerto_destino_frecuente = coms_frecuentes[\"Dst Port\"].value_counts().idxmax()\n",
    "print(\"Puerto destino mas frecuente:\", puerto_destino_frecuente)\n"
   ]
  },
  {
   "cell_type": "code",
   "execution_count": 12,
   "metadata": {},
   "outputs": [
    {
     "name": "stdout",
     "output_type": "stream",
     "text": [
      "Propósito del puerto: DNS (resolución de nombres)\n"
     ]
    }
   ],
   "source": [
    "puertos_conocidos = {\n",
    "    80: \"HTTP (navegación web)\",\n",
    "    443: \"HTTPS (navegación segura)\",\n",
    "    53: \"DNS (resolución de nombres)\",\n",
    "    25: \"SMTP (envío de correo)\",\n",
    "    22: \"SSH (acceso remoto seguro)\"\n",
    "}\n",
    "\n",
    "descripcion_puerto = puertos_conocidos.get(puerto_destino_frecuente, \"Propósito desconocido\")\n",
    "print(\"Propósito del puerto:\", descripcion_puerto)\n"
   ]
  },
  {
   "cell_type": "markdown",
   "metadata": {},
   "source": [
    "¿Desde que puertos origen se comunica?"
   ]
  },
  {
   "cell_type": "code",
   "execution_count": 13,
   "metadata": {},
   "outputs": [
    {
     "name": "stdout",
     "output_type": "stream",
     "text": [
      "Puertos origen únicos desde los que se comunica:\n",
      "[   53 15812 23903]\n"
     ]
    }
   ],
   "source": [
    "puertos_origen = df[\"Src Port\"].dropna().unique()\n",
    "print(\"Puertos origen únicos desde los que se comunica:\")\n",
    "print(puertos_origen)\n"
   ]
  },
  {
   "cell_type": "markdown",
   "metadata": {},
   "source": [
    "Gráficas\n",
    "\n",
    "a. Genere una gráfica de barras 2D horizontales, en el eje Y las IPs origen, y en el eje X la\n",
    "suma de los payloads (bytes) enviados desde dichas direcciones."
   ]
  },
  {
   "cell_type": "code",
   "execution_count": null,
   "metadata": {},
   "outputs": [],
   "source": [
    "from collections import defaultdict\n",
    "\n",
    "# Diccionario para guardar la suma de payloads por IP origen\n",
    "payloads_por_ip = defaultdict(int)\n",
    "\n",
    "# recorrer y sumar\n",
    "for pkt in paquetes:\n",
    "    if pkt.haslayer(\"IP\"):\n",
    "        src_ip = pkt[\"IP\"].src\n",
    "        payload_size = len(pkt[\"IP\"].payload)\n",
    "        payloads_por_ip[src_ip] += payload_size\n"
   ]
  },
  {
   "cell_type": "code",
   "execution_count": null,
   "metadata": {},
   "outputs": [],
   "source": [
    "# Convertir a DataFrame para graficar\n",
    "payload_df = pd.DataFrame(list(payloads_por_ip.items()), columns=[\"IP Origen\", \"Bytes Enviados\"])\n",
    "\n",
    "payload_df = payload_df.sort_values(by=\"Bytes Enviados\", ascending=True)\n"
   ]
  },
  {
   "cell_type": "code",
   "execution_count": 16,
   "metadata": {},
   "outputs": [
    {
     "data": {
      "image/png": "[encoded data removed]",
      "text/plain": [
       "<Figure size 1000x600 with 1 Axes>"
      ]
     },
     "metadata": {},
     "output_type": "display_data"
    }
   ],
   "source": [
    "import matplotlib.pyplot as plt\n",
    "\n",
    "plt.figure(figsize=(10, 6))\n",
    "plt.barh(payload_df[\"IP Origen\"], payload_df[\"Bytes Enviados\"])\n",
    "plt.xlabel(\"Bytes Enviados (Payload)\")\n",
    "plt.ylabel(\"IP Origen\")\n",
    "plt.title(\"Suma de Payloads por IP Origen\")\n",
    "plt.tight_layout()\n",
    "plt.show()\n"
   ]
  },
  {
   "cell_type": "markdown",
   "metadata": {},
   "source": [
    "Genere una gráfica de barras 2D horizontales, en el eje Y las IP destino, y en el eje X\n",
    "la suma de los payloads (bytes) recibidos en dichas direcciones."
   ]
  },
  {
   "cell_type": "code",
   "execution_count": 17,
   "metadata": {},
   "outputs": [],
   "source": [
    "from collections import defaultdict\n",
    "\n",
    "# Diccionario para guardar la suma de payloads por IP destino\n",
    "payloads_por_ip_destino = defaultdict(int)\n",
    "\n",
    "for pkt in paquetes:\n",
    "    if pkt.haslayer(\"IP\"):\n",
    "        dst_ip = pkt[\"IP\"].dst\n",
    "        payload_size = len(pkt[\"IP\"].payload)\n",
    "        payloads_por_ip_destino[dst_ip] += payload_size\n"
   ]
  },
  {
   "cell_type": "code",
   "execution_count": null,
   "metadata": {},
   "outputs": [],
   "source": [
    "payload_dst_df = pd.DataFrame(list(payloads_por_ip_destino.items()), columns=[\"IP Destino\", \"Bytes Recibidos\"])\n",
    "payload_dst_df = payload_dst_df.sort_values(by=\"Bytes Recibidos\", ascending=True)\n"
   ]
  },
  {
   "cell_type": "code",
   "execution_count": 19,
   "metadata": {},
   "outputs": [
    {
     "data": {
      "image/png": "[encoded data removed]",
      "text/plain": [
       "<Figure size 1000x600 with 1 Axes>"
      ]
     },
     "metadata": {},
     "output_type": "display_data"
    }
   ],
   "source": [
    "import matplotlib.pyplot as plt\n",
    "\n",
    "plt.figure(figsize=(10, 6))\n",
    "plt.barh(payload_dst_df[\"IP Destino\"], payload_dst_df[\"Bytes Recibidos\"])\n",
    "plt.xlabel(\"Bytes Recibidos (Payload)\")\n",
    "plt.ylabel(\"IP Destino\")\n",
    "plt.title(\"Suma de Payloads por IP Destino\")\n",
    "plt.tight_layout()\n",
    "plt.show()\n"
   ]
  },
  {
   "cell_type": "markdown",
   "metadata": {},
   "source": [
    "Genere una gráfica de barras 2D horizontales, en el eje Y los puertos origen, y en el\n",
    "eje X la suma de los payloads (bytes) enviados de dichos puertos."
   ]
  },
  {
   "cell_type": "code",
   "execution_count": 20,
   "metadata": {},
   "outputs": [],
   "source": [
    "from collections import defaultdict\n",
    "\n",
    "# Diccionario para guardar la suma de payloads por puerto origen\n",
    "payloads_por_puerto_origen = defaultdict(int)\n",
    "\n",
    "for pkt in paquetes:\n",
    "    if pkt.haslayer(\"IP\") and hasattr(pkt, 'sport'):\n",
    "        src_port = pkt.sport\n",
    "        payload_size = len(pkt[\"IP\"].payload)\n",
    "        payloads_por_puerto_origen[src_port] += payload_size\n"
   ]
  },
  {
   "cell_type": "code",
   "execution_count": 21,
   "metadata": {},
   "outputs": [],
   "source": [
    "payload_srcport_df = pd.DataFrame(\n",
    "    list(payloads_por_puerto_origen.items()),\n",
    "    columns=[\"Puerto Origen\", \"Bytes Enviados\"]\n",
    ")\n",
    "payload_srcport_df = payload_srcport_df.sort_values(by=\"Bytes Enviados\", ascending=True)\n"
   ]
  },
  {
   "cell_type": "code",
   "execution_count": 22,
   "metadata": {},
   "outputs": [
    {
     "data": {
      "image/png": "[encoded data removed]",
      "text/plain": [
       "<Figure size 1000x600 with 1 Axes>"
      ]
     },
     "metadata": {},
     "output_type": "display_data"
    }
   ],
   "source": [
    "import matplotlib.pyplot as plt\n",
    "\n",
    "plt.figure(figsize=(10, 6))\n",
    "plt.barh(payload_srcport_df[\"Puerto Origen\"].astype(str), payload_srcport_df[\"Bytes Enviados\"])\n",
    "plt.xlabel(\"Bytes Enviados (Payload)\")\n",
    "plt.ylabel(\"Puerto Origen\")\n",
    "plt.title(\"Suma de Payloads por Puerto Origen\")\n",
    "plt.tight_layout()\n",
    "plt.show()\n"
   ]
  },
  {
   "cell_type": "markdown",
   "metadata": {},
   "source": [
    "d. Genere una gráfica 2D de barras horizontales, en el eje Y los puertos destino, y en el\n",
    "eje X la suma de los payloads (bytes) recibidos en dichos puertos"
   ]
  },
  {
   "cell_type": "code",
   "execution_count": 26,
   "metadata": {},
   "outputs": [
    {
     "name": "stdout",
     "output_type": "stream",
     "text": [
      "IP origen más frecuente: 10.1.10.53\n"
     ]
    }
   ],
   "source": [
    "ip_origen_frecuente = df[\"Src Address\"].value_counts().idxmax()\n",
    "print(\"IP origen más frecuente:\", ip_origen_frecuente)\n"
   ]
  },
  {
   "cell_type": "code",
   "execution_count": null,
   "metadata": {},
   "outputs": [],
   "source": [
    "from collections import defaultdict\n",
    "\n",
    "payloads_por_segundo = defaultdict(int)\n",
    "\n",
    "for pkt in paquetes:\n",
    "    if pkt.haslayer(\"IP\") and pkt[\"IP\"].src == ip_origen_frecuente:\n",
    "        timestamp = int(pkt.time)\n",
    "        payload_size = len(pkt[\"IP\"].payload)\n",
    "        payloads_por_segundo[timestamp] += payload_size\n"
   ]
  },
  {
   "cell_type": "code",
   "execution_count": 28,
   "metadata": {},
   "outputs": [],
   "source": [
    "tiempo_df = pd.DataFrame(\n",
    "    list(payloads_por_segundo.items()),\n",
    "    columns=[\"Tiempo (s)\", \"Bytes Enviados\"]\n",
    ")\n",
    "tiempo_df = tiempo_df.sort_values(by=\"Tiempo (s)\")\n"
   ]
  },
  {
   "cell_type": "code",
   "execution_count": 29,
   "metadata": {},
   "outputs": [
    {
     "data": {
      "image/png": "[encoded data removed]",
      "text/plain": [
       "<Figure size 1200x600 with 1 Axes>"
      ]
     },
     "metadata": {},
     "output_type": "display_data"
    }
   ],
   "source": [
    "import matplotlib.pyplot as plt\n",
    "\n",
    "plt.figure(figsize=(12, 6))\n",
    "plt.bar(tiempo_df[\"Tiempo (s)\"], tiempo_df[\"Bytes Enviados\"])\n",
    "plt.xlabel(\"Tiempo (segundos)\")\n",
    "plt.ylabel(\"Bytes Enviados (Payload)\")\n",
    "plt.title(f\"Payloads enviados por segundo - IP Origen {ip_origen_frecuente}\")\n",
    "plt.xticks(rotation=45)\n",
    "plt.tight_layout()\n",
    "plt.show()\n"
   ]
  },
  {
   "cell_type": "markdown",
   "metadata": {},
   "source": [
    "f. Utilizando la información de las estadísticas y la información del comportamiento del\n",
    "tráfico que las gráficas muestran, describa que es lo que está sucediendo. ¿Es común\n",
    "el comportamiento?\n",
    "\n",
    "\n",
    "No es comun. La cantidad de payloads que hay de una misma ip y puerto es inmensa comparada con el resto que hay. "
   ]
  },
  {
   "cell_type": "markdown",
   "metadata": {},
   "source": [
    "Investigación del payload\n",
    "a. Cree un nuevo DF que incluya únicamente las conexiones con la dirección IP origen\n",
    "más frecuente"
   ]
  },
  {
   "cell_type": "code",
   "execution_count": 30,
   "metadata": {},
   "outputs": [
    {
     "name": "stdout",
     "output_type": "stream",
     "text": [
      "IP origen más frecuente: 10.1.10.53\n"
     ]
    }
   ],
   "source": [
    "ip_origen_frecuente = df[\"Src Address\"].value_counts().idxmax()\n",
    "print(\"IP origen más frecuente:\", ip_origen_frecuente)\n"
   ]
  },
  {
   "cell_type": "code",
   "execution_count": 31,
   "metadata": {},
   "outputs": [
    {
     "data": {
      "text/html": [
       "<div>\n",
       "<style scoped>\n",
       "    .dataframe tbody tr th:only-of-type {\n",
       "        vertical-align: middle;\n",
       "    }\n",
       "\n",
       "    .dataframe tbody tr th {\n",
       "        vertical-align: top;\n",
       "    }\n",
       "\n",
       "    .dataframe thead th {\n",
       "        text-align: right;\n",
       "    }\n",
       "</style>\n",
       "<table border=\"1\" class=\"dataframe\">\n",
       "  <thead>\n",
       "    <tr style=\"text-align: right;\">\n",
       "      <th></th>\n",
       "      <th>Src Address</th>\n",
       "      <th>Dst Address</th>\n",
       "      <th>Src Port</th>\n",
       "      <th>Dst Port</th>\n",
       "    </tr>\n",
       "  </thead>\n",
       "  <tbody>\n",
       "    <tr>\n",
       "      <th>0</th>\n",
       "      <td>10.1.10.53</td>\n",
       "      <td>84.54.22.33</td>\n",
       "      <td>53</td>\n",
       "      <td>53</td>\n",
       "    </tr>\n",
       "    <tr>\n",
       "      <th>2</th>\n",
       "      <td>10.1.10.53</td>\n",
       "      <td>84.54.22.33</td>\n",
       "      <td>53</td>\n",
       "      <td>53</td>\n",
       "    </tr>\n",
       "    <tr>\n",
       "      <th>4</th>\n",
       "      <td>10.1.10.53</td>\n",
       "      <td>84.54.22.33</td>\n",
       "      <td>53</td>\n",
       "      <td>53</td>\n",
       "    </tr>\n",
       "    <tr>\n",
       "      <th>6</th>\n",
       "      <td>10.1.10.53</td>\n",
       "      <td>84.54.22.33</td>\n",
       "      <td>53</td>\n",
       "      <td>53</td>\n",
       "    </tr>\n",
       "    <tr>\n",
       "      <th>8</th>\n",
       "      <td>10.1.10.53</td>\n",
       "      <td>84.54.22.33</td>\n",
       "      <td>53</td>\n",
       "      <td>53</td>\n",
       "    </tr>\n",
       "  </tbody>\n",
       "</table>\n",
       "</div>"
      ],
      "text/plain": [
       "  Src Address  Dst Address  Src Port  Dst Port\n",
       "0  10.1.10.53  84.54.22.33        53        53\n",
       "2  10.1.10.53  84.54.22.33        53        53\n",
       "4  10.1.10.53  84.54.22.33        53        53\n",
       "6  10.1.10.53  84.54.22.33        53        53\n",
       "8  10.1.10.53  84.54.22.33        53        53"
      ]
     },
     "execution_count": 31,
     "metadata": {},
     "output_type": "execute_result"
    }
   ],
   "source": [
    "df_frecuente = df[df[\"Src Address\"] == ip_origen_frecuente].copy()\n",
    "df_frecuente.head()\n"
   ]
  },
  {
   "cell_type": "markdown",
   "metadata": {},
   "source": [
    "b. Cree un nuevo DF que utilice el DF anterior con las columnas src, dst y payload y\n",
    "agrúpelas por dst y la suma del payload"
   ]
  },
  {
   "cell_type": "code",
   "execution_count": null,
   "metadata": {},
   "outputs": [],
   "source": [
    "datos_payload = []\n",
    "\n",
    "for pkt in paquetes:\n",
    "    if pkt.haslayer(\"IP\") and pkt[\"IP\"].src == ip_origen_frecuente:\n",
    "        src_ip = pkt[\"IP\"].src\n",
    "        dst_ip = pkt[\"IP\"].dst\n",
    "        payload_size = len(pkt[\"IP\"].payload)\n",
    "        datos_payload.append({\n",
    "            \"Src Address\": src_ip,\n",
    "            \"Dst Address\": dst_ip,\n",
    "            \"Payload\": payload_size\n",
    "        })\n",
    "\n",
    "df_payload = pd.DataFrame(datos_payload)\n"
   ]
  },
  {
   "cell_type": "code",
   "execution_count": 33,
   "metadata": {},
   "outputs": [
    {
     "data": {
      "text/html": [
       "<div>\n",
       "<style scoped>\n",
       "    .dataframe tbody tr th:only-of-type {\n",
       "        vertical-align: middle;\n",
       "    }\n",
       "\n",
       "    .dataframe tbody tr th {\n",
       "        vertical-align: top;\n",
       "    }\n",
       "\n",
       "    .dataframe thead th {\n",
       "        text-align: right;\n",
       "    }\n",
       "</style>\n",
       "<table border=\"1\" class=\"dataframe\">\n",
       "  <thead>\n",
       "    <tr style=\"text-align: right;\">\n",
       "      <th></th>\n",
       "      <th>Dst Address</th>\n",
       "      <th>Payload</th>\n",
       "    </tr>\n",
       "  </thead>\n",
       "  <tbody>\n",
       "    <tr>\n",
       "      <th>1</th>\n",
       "      <td>84.54.22.33</td>\n",
       "      <td>28211</td>\n",
       "    </tr>\n",
       "    <tr>\n",
       "      <th>0</th>\n",
       "      <td>75.75.75.75</td>\n",
       "      <td>90</td>\n",
       "    </tr>\n",
       "  </tbody>\n",
       "</table>\n",
       "</div>"
      ],
      "text/plain": [
       "   Dst Address  Payload\n",
       "1  84.54.22.33    28211\n",
       "0  75.75.75.75       90"
      ]
     },
     "execution_count": 33,
     "metadata": {},
     "output_type": "execute_result"
    }
   ],
   "source": [
    "df_agrupado = df_payload.groupby(\"Dst Address\")[\"Payload\"].sum().reset_index()\n",
    "df_agrupado = df_agrupado.sort_values(by=\"Payload\", ascending=False)\n",
    "df_agrupado.head()\n"
   ]
  },
  {
   "cell_type": "markdown",
   "metadata": {},
   "source": [
    "c. Obtenga la IP destino que más ha intercambiado bytes con la IP más frecuente. Esta\n",
    "IP es sospechosa por la cantidad de bytes intercambiados, entre todas las direcciones."
   ]
  },
  {
   "cell_type": "code",
   "execution_count": 34,
   "metadata": {},
   "outputs": [
    {
     "name": "stdout",
     "output_type": "stream",
     "text": [
      "IP destino sospechosa: 84.54.22.33\n",
      "Bytes intercambiados: 28211\n"
     ]
    }
   ],
   "source": [
    "ip_sospechosa = df_agrupado.iloc[0]  # Primera fila ya que está ordenado de mayor a menor\n",
    "print(\"IP destino sospechosa:\", ip_sospechosa[\"Dst Address\"])\n",
    "print(\"Bytes intercambiados:\", ip_sospechosa[\"Payload\"])\n"
   ]
  },
  {
   "cell_type": "markdown",
   "metadata": {},
   "source": [
    "d. Cree un nuevo DF con la conversación entre la IP más frecuente y la IP sospechosa."
   ]
  },
  {
   "cell_type": "code",
   "execution_count": 35,
   "metadata": {},
   "outputs": [
    {
     "data": {
      "text/html": [
       "<div>\n",
       "<style scoped>\n",
       "    .dataframe tbody tr th:only-of-type {\n",
       "        vertical-align: middle;\n",
       "    }\n",
       "\n",
       "    .dataframe tbody tr th {\n",
       "        vertical-align: top;\n",
       "    }\n",
       "\n",
       "    .dataframe thead th {\n",
       "        text-align: right;\n",
       "    }\n",
       "</style>\n",
       "<table border=\"1\" class=\"dataframe\">\n",
       "  <thead>\n",
       "    <tr style=\"text-align: right;\">\n",
       "      <th></th>\n",
       "      <th>Src Address</th>\n",
       "      <th>Dst Address</th>\n",
       "      <th>Payload</th>\n",
       "    </tr>\n",
       "  </thead>\n",
       "  <tbody>\n",
       "    <tr>\n",
       "      <th>0</th>\n",
       "      <td>10.1.10.53</td>\n",
       "      <td>84.54.22.33</td>\n",
       "      <td>941</td>\n",
       "    </tr>\n",
       "    <tr>\n",
       "      <th>1</th>\n",
       "      <td>10.1.10.53</td>\n",
       "      <td>84.54.22.33</td>\n",
       "      <td>955</td>\n",
       "    </tr>\n",
       "    <tr>\n",
       "      <th>2</th>\n",
       "      <td>10.1.10.53</td>\n",
       "      <td>84.54.22.33</td>\n",
       "      <td>992</td>\n",
       "    </tr>\n",
       "    <tr>\n",
       "      <th>3</th>\n",
       "      <td>10.1.10.53</td>\n",
       "      <td>84.54.22.33</td>\n",
       "      <td>978</td>\n",
       "    </tr>\n",
       "    <tr>\n",
       "      <th>4</th>\n",
       "      <td>10.1.10.53</td>\n",
       "      <td>84.54.22.33</td>\n",
       "      <td>983</td>\n",
       "    </tr>\n",
       "  </tbody>\n",
       "</table>\n",
       "</div>"
      ],
      "text/plain": [
       "  Src Address  Dst Address  Payload\n",
       "0  10.1.10.53  84.54.22.33      941\n",
       "1  10.1.10.53  84.54.22.33      955\n",
       "2  10.1.10.53  84.54.22.33      992\n",
       "3  10.1.10.53  84.54.22.33      978\n",
       "4  10.1.10.53  84.54.22.33      983"
      ]
     },
     "execution_count": 35,
     "metadata": {},
     "output_type": "execute_result"
    }
   ],
   "source": [
    "ip_frecuente = ip_origen_frecuente\n",
    "ip_sospechosa = ip_sospechosa[\"Dst Address\"]\n",
    "\n",
    "\n",
    "df_conversacion = df_payload[\n",
    "    ((df_payload[\"Src Address\"] == ip_frecuente) & (df_payload[\"Dst Address\"] == ip_sospechosa)) |\n",
    "    ((df_payload[\"Src Address\"] == ip_sospechosa) & (df_payload[\"Dst Address\"] == ip_frecuente))\n",
    "].copy()\n",
    "\n",
    "df_conversacion.head()"
   ]
  },
  {
   "cell_type": "markdown",
   "metadata": {},
   "source": [
    "e. Obtenga los payloads del DF del inciso anterior, y añada cada uno en un array."
   ]
  },
  {
   "cell_type": "code",
   "execution_count": 40,
   "metadata": {},
   "outputs": [],
   "source": [
    "payloads_array = []\n",
    "\n",
    "for pkt in paquetes:\n",
    "    if pkt.haslayer(\"IP\"):\n",
    "        src = pkt[\"IP\"].src\n",
    "        dst = pkt[\"IP\"].dst\n",
    "\n",
    "        if (\n",
    "            (src == ip_frecuente and dst == ip_sospechosa) or\n",
    "            (src == ip_sospechosa and dst == ip_frecuente)\n",
    "        ):\n",
    "            # Extraemos el payload en bytes\n",
    "            payload = bytes(pkt[\"IP\"].payload)\n",
    "            payloads_array.append(payload)\n"
   ]
  },
  {
   "cell_type": "markdown",
   "metadata": {},
   "source": [
    "f. Muestre el contenido del array"
   ]
  },
  {
   "cell_type": "code",
   "execution_count": 41,
   "metadata": {},
   "outputs": [
    {
     "name": "stdout",
     "output_type": "stream",
     "text": [
      "Cantidad de payloads encontrados: 58\n",
      "Primeros 3 payloads:\n",
      "\n",
      "Payload 1:\n",
      "b'\\x005\\x005\\x03\\xad\\xf6\\x0e\\x00\\x0c\\x01\\x00\\x00\\x01\\x00\\x00\\x00\\x00\\x00\\x00\\x06google\\x03com\\x00\\x00\\x1c\\x00\\x01\\xef\\xbf\\xbdPNG\\r\\n\\x1a\\n\\x00\\x00\\x00\\rIHDR\\x00\\x00\\x01b\\x00\\x00\\x00\\xef\\xbf\\xbd\\x08\\x06\\x00\\x00\\x00(\\xef\\xbf\\xbdTR\\x00\\x00:\\xef\\xbf\\xbdIDATx\\xef\\xbf\\xbd\\xef\\xbf\\xbd\\t|T\\xef\\xbf\\xbd\\xef\\xbf\\xbd\\xef\\xbf\\xbd\\xef\\xbf\\xbd\\xef\\xbf\\xbd;K\\x12\\x08;\\x08\\xef\\xbf\\xbd\\nE\\xef\\xbf\\xbd\\xef\\xbf\\xbd$\\x19\\xef\\xbf\\xbd\\xef\\xbf\\xbdZi\\xdf\\xaa-\\xef\\xbf\\xbd;N2\\xef\\xbf\\xbd\\xef\\xbf\\xbdV\\xef\\xbf\\xbdV\\xef\\xbf\\xbda\\xef\\xbf\\xbdZ\\x11!\\xef\\xbf\\xbd\\xef\\xbf\\xbd\\x01\\xdc\\xbbik[\\xef\\xbf\\xbd.ok\\xef\\xbf\\xbde\\xef\\xbf\\xbd\\x01\\\\\\xef\\xbf\\xbd\\xef\\xbf\\xbd]\\xef\\xbf\\xbd-\\xef\\xbf\\xbd\\xef\\xbf\\xbd\\xef\\xbf\\xbdd\\xef\\xbf\\xbd\\x08\\xef\\xbf\\xbd\\x08\\xef\\xbf\\xbd\\xef\\xbf\\xbdg\\xef\\xbf\\xbd\\xef\\xbf\\xbd\\xef\\xbf\\xbd<\\xef\\xbf\\xbd\\xef\\xbf\\xbdL\\x12\\xef\\xbf\\xbd$3wf\\xef\\xbf\\xbd\\xef\\xbf\\xbd\\x02<_\\r\\xef\\xbf\\xbdY\\xef\\xbf\\xbdr\\xef\\xbf\\xbd\\xef\\xbf\\xbdy\\xef\\xbf\\xbd\\xef\\xbf\\xbd\\xef\\xbf\\xbd\\x1c\\r\\x18\\xef\\xbf\\xbd8c\\xef\\xbf\\xbdew\\r\\x1e\\xef\\xbf\\xbd\\xef\\xbf\\xbd\\xef\\xbf\\xbd\\xef\\xbf\\xbd\\x13\\xef\\xbf\\xbdiaK\\xef\\xbf\\xbd\\xef\\xbf\\xbd\\xef\\xbf\\xbd\\xef\\xbf\\xbdu}\\xc5\\xb2w\\xef\\xbf\\xbdd\\xef\\xbf\\xbd\\xef\\xbf\\xbd\\x15\\xef\\xbf\\xbd\"`\\x06:\\x13\\xef\\xbf\\xbd\\x0b\\xef\\xbf\\xbd\\x0c\\x16\\xef\\xbf\\xbd\\x12\\xef\\xbf\\xbd&\\xef\\xbf\\xbd9\\xc6\\x90\\xef\\xbf\\xbd\\x00\\xef\\xbf\\xbd\\xef\\xbf\\xbd\\xef\\xbf\\xbd\\x08\\x111\\xd2\\x8cQHP*\\xef\\xbf\\xbd@\\x04O4\\xef\\xbf\\xbd\\xef\\xbf\\xbd\\xef\\xbf\\xbd7<y\\xef\\xbf\\xbd\\x0e.9\\xef\\xbf\\xbd\\xef\\xbf\\xbd\\xef\\xbf\\xbda2@a\\xef\\xbf\\xbd\\xef\\xbf\\xbd&\"\\xef\\xbf\\xbd\\x13\\x11\\xef\\xbf\\xbdc\\xef\\xbf\\xbdkO\\xef\\xbf\\xbds@\\xef\\xbf\\xbd9\\xef\\xbf\\xbdi\\xef\\xbf\\xbd4X\\xef\\xbf\\xbdx\\xef\\xbf\\xbdK\\xef\\xbf\\xbda!f\\xef\\xbf\\xbd\\xef\\xbf\\xbd0w\\xef\\xbf\\xbd\\xef\\xbf\\xbd3dx\\x1d\"\\xef\\xbf\\xbd\\xef\\xbf\\xbd\\xef\\xbf\\xbdC(\\xef\\xbf\\xbd}\\xef\\xbf\\xbd0|q\\xef\\xbf\\xbd*\\xef\\xbf\\xbd\\xef\\xbf\\xbd\\x0b\\xef\\xbf\\xbda!f\\xef\\xbf\\xbd4\\xef\\xbf\\xbd\\xef\\xbf\\xbd.\\xef\\xbf\\xbdsKg\\x10\\x11]=9N\\xd4\\x82\\x06\\xef\\xbf\\xbd\\xef\\xbf\\xbdu\\xef\\xbf\\xbd\\xef\\xbf\\xbd\\xef\\xbf\\xbdK_\\xef\\xbf\\xbde\\x06*\\xef\\xbf\\xbd\\xef\\xbf\\xbd\\xef\\xbf\\xbd\\x19Px\\xef\\xbf\\xbd\\xef\\xbf\\xbd%\\xef\\xbf\\xbd\\xef\\xbf\\xbd\\x03\\xef\\xbf\\xbd3\\xef\\xbf\\xbd\\xef\\xbf\\xbd\\x1e\"E?\\x0f\\xef\\xbf\\xbd\\xef\\xbf\\xbd\\xef\\xbf\\xbd+H\\xef\\xbf\\xbd]Q\\xef\\xbf\\xbdk\\xef\\xbf\\xbd\\xef\\xbf\\xbd\\xef\\xbf\\xbd\\xef\\xbf\\xbd8\\xef\\xbf\\xbd\"\\xef\\xbf\\xbd\\x1d\\x114v\\xef\\xbf\\xbd2\\x10\\xef\\xbf\\xbd\\xef\\xbf\\xbd\\xef\\xbf\\xbd\\xe5\\x92\\xaf\\xcc\\xb8|\\xef\\xbf\\xbdx.\\\\\\xef\\xbf\\xbd-b\\xef\\xbf\\xbdI\\xef\\xbf\\xbdB\\xef\\xbf\\xbd\\xef\\xbf\\xbd\\xef\\xbf\\xbd@\\xef\\xbf\\xbdL\\xef\\xbf\\xbd\\xef\\xbf\\xbdCJ]XWQ\\xef\\xbf\\xbd\\xef\\xbf\\xbd\\xef\\xbf\\xbd\\xef\\xbf\\xbduQ\\xef\\xbf\\xbdkQ\\x13\\x7f\\xef\\xbf\\xbdN\\xef\\xbf\\xbd1\\x00\\xef\\xbf\\xbd\\xef\\xbf\\xbd\\xef\\xbf\\xbd2\\x17\\xef\\xbf\\xbd03\\x10\\xef\\xbf\\xbd\\\\\\x04\\xef\\xbf\\xbd@!\\xef\\xbf\\xbdH\\xef\\xbf\\xbdBJqG\\'+\\xef\\xbf\\xbdR\\xef\\xbf\\xbdU\\\\[\\xef\\xbf\\xbd\\xef\\xbf\\xbd\\xef\\xbf\\xbd\\xef\\xbf\\xbdGXC;\\xef\\xbf\\xbd\\xef\\xbf\\xbd\\xd4\\x8e\\xef\\xbf\\xbdq\\xef\\xbf\\xbd!\\x04\\xef\\xbf\\xbdr\\xef\\xbf\\xbds=\\xef\\xbf\\xbd\\x02r\\xd4\\xb4\\x0b\\xef\\xbf\\xbd\\xef\\xbf\\xbd\\xef\\xbf\\xbd_S\\xef\\xbf\\xbd%\\xef\\xbf\\xbdph\\xef\\xbf\\xbda\\x12Y\\x05\\x02\\xef\\xbf\\xbd\\xef\\xbf\\xbd\\xef\\xbf\\xbd\\xef\\xbf\\xbdc\\xef\\xbf\\xbd\\xef\\xbf\\xbd\\xef\\xbf\\xbdP\\xef\\xbf\\xbd9\\xef\\xbf\\xbd'\n",
      "\n",
      "Payload 2:\n",
      "b'\\x005\\x005\\x00@\\xfe%\\x00\\x0c\\x81\\x80\\x00\\x01\\x00\\x01\\x00\\x00\\x00\\x00\\x06google\\x03com\\x00\\x00\\x1c\\x00\\x01\\xc0\\x0c\\x00\\x1c\\x00\\x01\\x00\\x00\\x01+\\x00\\x10&\\x07\\xf8\\xb0@\\x05\\x08\\x07\\x00\\x00\\x00\\x00\\x00\\x00 \\x0e'\n",
      "\n",
      "Payload 3:\n",
      "b'\\x005\\x005\\x03\\xbb\\x8e\\x1a\\x00\\x0c\\x01\\x00\\x00\\x01\\x00\\x00\\x00\\x00\\x00\\x00\\x06google\\x03com\\x00\\x00\\x1c\\x00\\x01:\\xef\\xbf\\xbdle:\\xc7\\xa9\\xef\\xbf\\xbd\\xef\\xbf\\xbd\\xef\\xbf\\xbd\\x0c\\xef\\xbf\\xbd\\xef\\xbf\\xbd\\xef\\xbf\\xbd:|\\x11\\xef\\xbf\\xbdX\\xef\\xbf\\xbd\\xef\\xbf\\xbdq.e\\xef\\xbf\\xbd\\xef\\xbf\\xbd\\xef\\xbf\\xbda\\x120\\xef\\xbf\\xbdJ}4\\n9$vz\\xef\\xbf\\xbdR\\xef\\xbf\\xbduO/\\xef\\xbf\\xbd\\xef\\xbf\\xbd;\\xc7\\xab]\\xef\\xbf\\xbd\\xef\\xbf\\xbdM\"\\xef\\xbf\\xbdrT\\xd3\\xa3H1i\\xef\\xbf\\xbd\\xef\\xbf\\xbd\\xcb\\xa5\\xcd\\xb0\\x103L<k\\xef\\xbf\\xbd\\x01_\\x07R\\x1d,\\xef\\xbf\\xbd\\xef\\xbf\\xbdF\\xef\\xbf\\xbd\\xef\\xbf\\xbd\\xe4\\x98\\xa10]\\x1e\\xef\\xbf\\xbd\\xef\\xbf\\xbd\\xef\\xbf\\xbd\\x1eSY\\xef\\xbf\\xbd\\xef\\xbf\\xbd\\x0b\\x0fqi3,\\xef\\xbf\\xbd\\x0c\\x13\\x07D\\xef\\xbf\\xbd\\xef\\xbf\\xbd\\xef\\xbf\\xbd\\x0b\\xef\\xbf\\xbd\\xef\\xbf\\xbd\\x19c{O\\xef\\xbf\\xbd\\xef\\xbf\\xbdn\\xef\\xbf\\xbdQK\\xef\\xbf\\xbd\\n\\xef\\xbf\\xbdZ\\xef\\xbf\\xbd\\x00p)\\xef\\xbf\\xbd63\\xef\\xbf\\xbd\\xef\\xbf\\xbd\\\\\\x13\\'-\\xef\\xbf\\xbd\\xef\\xbf\\xbdU\\x0cy\\x12\\xef\\xbf\\xbdc\\x115\\xef\\xbf\\xbdV\\xef\\xbf\\xbd\\x00\\xef\\xbf\\xbd\\xea\\xaf\\xab!\\xef\\xbf\\xbd)\\x1d\\xef\\xbf\\xbd\\xef\\xbf\\xbd\\x10}\\xef\\xbf\\xbd\\xef\\xbf\\xbd\\xef\\xbf\\xbd*\\x05\\x15R\\xef\\xbf\\xbd\\xef\\xbf\\xbdG\\xef\\xbf\\xbdX\\xef\\xbf\\xbd\\xef\\xbf\\xbd\\xef\\xbf\\xbdY\\xef\\xbf\\xbdS.\\xef\\xbf\\xbdkpv\\xef\\xbf\\xbd\\xef\\xbf\\xbd\\x08H\\x1e8\\xef\\xbf\\xbd\\x10z\\xef\\xbf\\xbd\\xef\\xbf\\xbd\\x7f\\xef\\xbf\\xbdm\\xef\\xbf\\xbda!>\\t\\xef\\xbf\\xbd/\\xef\\xbf\\xbd/\\xef\\xbf\\xbd\\x02\\xef\\xbf\\xbdF\\x14\\x02\\xef\\xbf\\xbd@\\x00B\\xef\\xbf\\xbd\\xef\\xbf\\xbd^\\xef\\xbf\\xbd\\xef\\xbf\\xbd\\xef\\xbf\\xbdy\\xef\\xbf\\xbd\\xef\\xbf\\xbd\\x10\\x1d.\\xef\\xbf\\xbd\\xef\\xbf\\xbd\\xef\\xbf\\xbd1\\x1d\\x06\\xd8\\x95\\x11K\\x1b\\xef\\xbf\\xbd\\xef\\xbf\\xbd\\xef\\xbf\\xbd\\xef\\xbf\\xbdb\\xef\\xbf\\xbd\\xef\\xbf\\xbd\\xef\\xbf\\xbd;\\xef\\xbf\\xbd\\xef\\xbf\\xbd\\x08\\xef\\xbf\\xbd\\xef\\xbf\\xbd=N\\xef\\xbf\\xbd\\xef\\xbf\\xbd 7\\'\\'k\\x1f\\x02\\xef\\xbf\\xbd\\xef\\xbf\\xbdu\\x0c\\x19\\xef\\xbf\\xbd\\x02\\xef\\xbf\\xbdO\\xef\\xbf\\xbd\\xef\\xbf\\xbd\\xef\\xbf\\xbda\\xef\\xbf\\xbd\\\\\\x16d\\x16b\\xef\\xbf\\xbd$a\\xef\\xbf\\xbd\\x15\\xef\\xbf\\xbdFd\\xef\\xbf\\xbd\\xef\\xbf\\xbd\\xef\\xbf\\xbd\\x16\\xef\\xbf\\xbd3Z\\xef\\xbf\\xbd\\xef\\xbf\\xbd\\x1e\\x13(!\\xc4\\xb9\\xef\\xbf\\xbd\\xef\\xbf\\xbd\\xef\\xbf\\xbdWj\\x03\\xef\\xbf\\xbd_S=^\\xef\\xbf\\xbdW?\\xef\\xbf\\xbd%\\xef\\xbf\\xbd\\xef\\xbf\\xbd\\x00\\xef\\xbf\\xbdR\\xef\\xbf\\xbd\\xef\\xbf\\xbdK \\x10\\xef\\xbf\\xbd\\xef\\xbf\\xbd{mV8\\x14B<\\xef\\xbf\\xbd\\xef\\xbf\\xbd\\xef\\xbf\\xbd,x=#\\x16\\xef\\xbf\\xbdi\\xef\\xbf\\xbd%dL\\xef\\xbf\\xbd\\xef\\xbf\\xbd\\xef\\xbf\\xbd\\xef\\xbf\\xbd\\x08\\xef\\xbf\\xbd\\xef\\xbf\\xbd=k\\xef\\xbf\\xbd\\xef\\xbf\\xbd]\\xef\\xbf\\xbd\\xef\\xbf\\xbd\\xef\\xbf\\xbd\\xc6\\x96\\xef\\xbf\\xbd\\xef\\xbf\\xbd\\rO\\xef\\xbf\\xbd\\xef\\xbf\\xbdI\\xef\\xbf\\xbd\\xef\\xbf\\xbd\\xef\\xbf\\xbd\\x1d2\\xef\\xbf\\xbd5h\\x1d\\xef\\xbf\\xbd\\xda\\xae%\\xea\\x80\\x8c\\xef\\xbf\\xbd\\x1d\\xef\\xbf\\xbd\\xef\\xbf\\xbd\\xef\\xbf\\xbd)\\xef\\xbf\\xbd_\\x0fV\\x18\\xef\\xbf\\xbdr+=9\\xef\\xbf\\xbd\\x18\\xef\\xbf\\xbdID\\xef\\xbf\\xbd\\xef\\xbf\\xbd\\xef\\xbf\\xbd:\\x02L\\xef\\xbf\\xbdc\\xef\\xbf\\xbd\\xef\\xbf\\xbd\\x0e\\xef\\xbf\\xbd\\xef\\xbf\\xbdR\\xef\\xbf\\xbd7\\x1dc\\xef\\xbf\\xbd-\\xef\\xbf\\xbd]D\\xef\\xbf\\xbd]\\x08qw\\xef\\xbf\\xbd\\xef\\xbf\\xbd\\xef\\xbf\\xbdp\\xef\\xbf\\xbdd}\\xef\\xbf\\xbdM(##\\xef\\xbf\\xbd\\xda\\xbf{\\xcb\\xa2L\\xef\\xbf\\xbds\\xef\\xbf\\xbd\\'\\xef\\xbf\\xbd2\\x01\\x1c\\x15^K\\xef\\xbf\\xbd;{r\\xef\\xbf\\xbdQ2w\\xef\\xbf\\xbd\\x10p;\\n\\xef\\xbf\\xbd^\\xef\\xbf\\xbd\\xef\\xbf\\xbd\\xef\\xbf\\xbd~z\\xef\\xbf\\xbd\\xef\\xbf\\xbdPv.\\xef\\xbf\\xbd\\xef\\xbf\\xbd\\xef\\xbf\\xbd\\x00\\x05~\\xef\\xbf\\xbd\\xef\\xbf\\xbd'\n",
      "Primeros 3 payloads convertidos a texto:\n",
      "\n",
      "Payload 1:\n",
      "\u00005\u00005\u0003��\u000e\u0000\f\u0001\u0000\u0000\u0001\u0000\u0000\u0000\u0000\u0000\u0000\u0006google\u0003com\u0000\u0000\u001c\u0000\u0001�PNG\n",
      "\u001a\n",
      "IHDR\u0000\u0000\u0001b\u0000\u0000\u0000\u0006\u0000\u0000\u0000(�TR\u0000\u0000:�IDATx��\t|T�����;K�\n",
      "\u001e����\u0013�iaK����u}Ųw�d��\u0015�\"`\u0006:\u0013�\u000b�\f\u0016�\u0012�&�9Ɛ�\u0000��\u00111ҌQHP*�@\u0004O4���7<y�\u000e.9���a2@a��&\"�\u0013\u0011�c�kO�s@�9�i�4X�x�K�a!f��0w��3dx\u001d\"���C(�}�0|q�*��\u000b�a!f�4��.�sKg\u0010\u0011]=9NԂ\u0006��u���K_�e\u0006*���\u0019Px��%��\u0003�3��\u001e\"E?\u000f���+H�]Q�k����8�\"�\u001d\u00114v�2\u0010���咯̸|�x.\\�-b�I�B���@�L��CJ]XWQ����uQ�kQ\u0013�N�1\u0000���2\u0017�03\u0010�\\\u0004�@!�H�BJqG'+�R�U\\[����GXC;��Ԏ�q�!\u0004�r�s=�\u0002rԴ\u000b���_S�%�ph�a\u0012Y\u0005\u0002����c���P�9�\n",
      "------------------------------------------------------------\n",
      "Payload 2:\n",
      "\u00005\u00005\u0000@�%\u0000\f��\u0000\u0001\u0000\u0001\u0000\u0000\u0000\u0000\u0006google\u0003com\u0000\u0000\u001c\u0000\u0001�\f\u0000\u001c\u0000\u0001\u0000\u0000\u0001+\u0000\u0010&\u0007��@\u0007\u0000\u0000\u0000\u0000\u0000\u0000 \u000e\n",
      "------------------------------------------------------------\n",
      "Payload 3:\n",
      "\u00005\u00005\u0003��\u001a\u0000\f\u0001\u0000\u0000\u0001\u0000\u0000\u0000\u0000\u0000\u0000\u0006google\u0003com\u0000\u0000\u001c\u0000\u0001:�le:ǩ���\f���:|\u0011�X��q.e���a\u00120�J}4\n",
      "9$vz�R�uO/��;ǫ]��M\"�rTӣH1i��˥Ͱ\u00103L<k�\u0001_\u0007R\u001d,��F��䘡0]\u001e���\u001eSY��\u000b\u000fqi3,�\f\u0013\u0007D���\u000b��\u0019c{O��n�QK�\n",
      "O��I���\u001d2�5h\u001d�ڮ%ꀌ�\u001d���)�_\u000fV\u0018�r+=9�\u0018�ID���:\u0002L�c��\u000e��R�7\u001dc�-�]D�qw���p�d}�M(##�ڿ{ˢL�s�'�2\u0001\u001c\u0015^K�;{r�Q2w�\u0010p;.���1\u001d\u0006ؕ\u0011K\u001b����b���;���=N�� 7''k\u001f\u0002��u\f\u0019�\u0002�O���a�\\\u0016d\u0016b�$a�\u0015�Fd���\u0016�3Z��\u001e\u0013(!Ĺ���Wj\u0003�_S=^�W?�%��\u0000�R��K \u0010��{mV8\u0014B<���,x=#\u0016�i�%dL�����=k��]���Ɩ��\n",
      "�^���~z��Pv.���\u0000\u0005~��\n",
      "------------------------------------------------------------\n"
     ]
    }
   ],
   "source": [
    "print(f\"Cantidad de payloads encontrados: {len(payloads_array)}\")\n",
    "print(\"Primeros 3 payloads:\")\n",
    "for i, p in enumerate(payloads_array[:3]):\n",
    "    print(f\"\\nPayload {i+1}:\")\n",
    "    print(p)\n",
    "payloads_texto = []\n",
    "\n",
    "for i, payload in enumerate(payloads_array):\n",
    "    try:\n",
    "        texto = payload.decode(\"utf-8\", errors=\"replace\")  # reemplaza caracteres inválidos\n",
    "        payloads_texto.append(texto)\n",
    "    except Exception as e:\n",
    "        payloads_texto.append(f\"[Error al decodificar: {e}]\")\n",
    "print(\"Primeros 3 payloads convertidos a texto:\\n\")\n",
    "for i, p in enumerate(payloads_texto[:3]):\n",
    "    print(f\"Payload {i+1}:\\n{p}\\n{'-'*60}\")\n"
   ]
  },
  {
   "cell_type": "markdown",
   "metadata": {},
   "source": [
    "g. Observe los primeros bytes del contenido, ¿encuentra algún tipo de dato que no haga\n",
    "sentido que se envíe al puerto destino? Describa lo que encontró.\n",
    "\n",
    "si, ningun dato hace sentido porque estan codificafos. ademas, lo que fue enviadoson imagenes o algun otro tipo de dato que no es texto por lo que no se puede decodificar y leer."
   ]
  }
 ],
 "metadata": {
  "kernelspec": {
   "display_name": "Python 3",
   "language": "python",
   "name": "python3"
  },
  "language_info": {
   "codemirror_mode": {
    "name": "ipython",
    "version": 3
   },
   "file_extension": ".py",
   "mimetype": "text/x-python",
   "name": "python",
   "nbconvert_exporter": "python",
   "pygments_lexer": "ipython3",
   "version": "3.11.9"
  }
 },
 "nbformat": 4,
 "nbformat_minor": 2
}
