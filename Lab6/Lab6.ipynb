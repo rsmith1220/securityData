{
 "cells": [
  {
   "cell_type": "markdown",
   "metadata": {},
   "source": [
    "a. Capture 25 paquetes de su red doméstica (no de la red de la UVG) y asígnelos a una variable.\n",
    "\n",
    "b. Imprima el tipo de variable, la longitud y el contenido de la variable.\n",
    "\n",
    "c. Imprima el tipo de dato del primer paquete capturado.\n",
    "\n",
    "d. Imprima el contenido de 5 paquetes"
   ]
  },
  {
   "cell_type": "code",
   "execution_count": null,
   "metadata": {},
   "outputs": [
    {
     "name": "stdout",
     "output_type": "stream",
     "text": [
      "Tipo de variable: <class 'scapy.plist.PacketList'>\n",
      "Cantidad de paquetes capturados: 25\n",
      "Contenido de los paquetes:\n",
      "<Sniffed: TCP:23 UDP:2 ICMP:0 Other:0>\n",
      "Tipo del primer paquete: <class 'scapy.layers.l2.Ether'>\n",
      "Contenido de los primeros 5 paquetes:\n",
      "\n",
      "Paquete 1:\n",
      "Ether / IP / TCP 34.120.208.123:https > 192.168.1.36:54089 A / Padding\n",
      "\n",
      "Paquete 2:\n",
      "Ether / IP / TCP 34.120.208.123:https > 192.168.1.36:54089 PA / Raw\n",
      "\n",
      "Paquete 3:\n",
      "Ether / IP / TCP 34.120.208.123:https > 192.168.1.36:54089 PA / Raw\n",
      "\n",
      "Paquete 4:\n",
      "Ether / IP / TCP 192.168.1.36:54089 > 34.120.208.123:https A\n",
      "\n",
      "Paquete 5:\n",
      "Ether / IP / TCP 192.168.1.36:54089 > 34.120.208.123:https PA / Raw\n"
     ]
    }
   ],
   "source": [
    "from scapy.all import sniff\n",
    "#25 paquetes\n",
    "paquetes = sniff(count=25)\n",
    "\n",
    "print(\"Tipo de variable:\", type(paquetes))\n",
    "\n",
    "print(\"Cantidad de paquetes capturados:\", len(paquetes))\n",
    "print(\"Contenido de los paquetes:\")\n",
    "print(paquetes)\n",
    "\n",
    "print(\"Tipo del primer paquete:\", type(paquetes[0]))\n",
    "\n",
    "print(\"Contenido de los primeros 5 paquetes:\")\n",
    "for i in range(5):\n",
    "    print(f\"\\nPaquete {i+1}:\")\n",
    "    print(paquetes[i].summary())\n"
   ]
  },
  {
   "cell_type": "markdown",
   "metadata": {},
   "source": [
    "Descargue e archivo analisis_paquetes.pcap y asignelo a una variable."
   ]
  },
  {
   "cell_type": "code",
   "execution_count": 2,
   "metadata": {},
   "outputs": [],
   "source": [
    "from scapy.all import rdpcap\n",
    "\n",
    "# Carga el archivo pcap\n",
    "paquetes = rdpcap(\"analisis_paquetes.pcap\")\n"
   ]
  },
  {
   "cell_type": "markdown",
   "metadata": {},
   "source": [
    "Convierta la variable a un DataFrame."
   ]
  },
  {
   "cell_type": "code",
   "execution_count": 3,
   "metadata": {},
   "outputs": [],
   "source": [
    "import pandas as pd\n",
    "\n",
    "# Convertimos a DataFrame extrayendo datos relevantes\n",
    "datos = []\n",
    "\n",
    "for pkt in paquetes:\n",
    "    if pkt.haslayer(\"IP\"):  # Asegurarse de que tiene capa IP\n",
    "        src_ip = pkt[\"IP\"].src\n",
    "        dst_ip = pkt[\"IP\"].dst\n",
    "        src_port = pkt.sport if hasattr(pkt, 'sport') else None\n",
    "        dst_port = pkt.dport if hasattr(pkt, 'dport') else None\n",
    "        datos.append({\n",
    "            \"Src Address\": src_ip,\n",
    "            \"Dst Address\": dst_ip,\n",
    "            \"Src Port\": src_port,\n",
    "            \"Dst Port\": dst_port\n",
    "        })\n",
    "\n",
    "df = pd.DataFrame(datos)\n"
   ]
  },
  {
   "cell_type": "markdown",
   "metadata": {},
   "source": [
    "Muestre el contenido de las primeras 5 filas del dataset."
   ]
  },
  {
   "cell_type": "code",
   "execution_count": null,
   "metadata": {},
   "outputs": [
    {
     "data": {
      "text/html": [
       "<div>\n",
       "<style scoped>\n",
       "    .dataframe tbody tr th:only-of-type {\n",
       "        vertical-align: middle;\n",
       "    }\n",
       "\n",
       "    .dataframe tbody tr th {\n",
       "        vertical-align: top;\n",
       "    }\n",
       "\n",
       "    .dataframe thead th {\n",
       "        text-align: right;\n",
       "    }\n",
       "</style>\n",
       "<table border=\"1\" class=\"dataframe\">\n",
       "  <thead>\n",
       "    <tr style=\"text-align: right;\">\n",
       "      <th></th>\n",
       "      <th>Src Address</th>\n",
       "      <th>Dst Address</th>\n",
       "      <th>Src Port</th>\n",
       "      <th>Dst Port</th>\n",
       "    </tr>\n",
       "  </thead>\n",
       "  <tbody>\n",
       "    <tr>\n",
       "      <th>0</th>\n",
       "      <td>10.1.10.53</td>\n",
       "      <td>84.54.22.33</td>\n",
       "      <td>53</td>\n",
       "      <td>53</td>\n",
       "    </tr>\n",
       "    <tr>\n",
       "      <th>1</th>\n",
       "      <td>84.54.22.33</td>\n",
       "      <td>10.1.10.53</td>\n",
       "      <td>53</td>\n",
       "      <td>53</td>\n",
       "    </tr>\n",
       "    <tr>\n",
       "      <th>2</th>\n",
       "      <td>10.1.10.53</td>\n",
       "      <td>84.54.22.33</td>\n",
       "      <td>53</td>\n",
       "      <td>53</td>\n",
       "    </tr>\n",
       "    <tr>\n",
       "      <th>3</th>\n",
       "      <td>84.54.22.33</td>\n",
       "      <td>10.1.10.53</td>\n",
       "      <td>53</td>\n",
       "      <td>53</td>\n",
       "    </tr>\n",
       "    <tr>\n",
       "      <th>4</th>\n",
       "      <td>10.1.10.53</td>\n",
       "      <td>84.54.22.33</td>\n",
       "      <td>53</td>\n",
       "      <td>53</td>\n",
       "    </tr>\n",
       "  </tbody>\n",
       "</table>\n",
       "</div>"
      ],
      "text/plain": [
       "   Src Address  Dst Address  Src Port  Dst Port\n",
       "0   10.1.10.53  84.54.22.33        53        53\n",
       "1  84.54.22.33   10.1.10.53        53        53\n",
       "2   10.1.10.53  84.54.22.33        53        53\n",
       "3  84.54.22.33   10.1.10.53        53        53\n",
       "4   10.1.10.53  84.54.22.33        53        53"
      ]
     },
     "execution_count": 4,
     "metadata": {},
     "output_type": "execute_result"
    }
   ],
   "source": [
    "df.head()"
   ]
  },
  {
   "cell_type": "markdown",
   "metadata": {},
   "source": [
    "Muestre los valores de las columnas: Src Addres, Dst Address, Src Port y Dst Port."
   ]
  },
  {
   "cell_type": "code",
   "execution_count": null,
   "metadata": {},
   "outputs": [
    {
     "data": {
      "text/html": [
       "<div>\n",
       "<style scoped>\n",
       "    .dataframe tbody tr th:only-of-type {\n",
       "        vertical-align: middle;\n",
       "    }\n",
       "\n",
       "    .dataframe tbody tr th {\n",
       "        vertical-align: top;\n",
       "    }\n",
       "\n",
       "    .dataframe thead th {\n",
       "        text-align: right;\n",
       "    }\n",
       "</style>\n",
       "<table border=\"1\" class=\"dataframe\">\n",
       "  <thead>\n",
       "    <tr style=\"text-align: right;\">\n",
       "      <th></th>\n",
       "      <th>Src Address</th>\n",
       "      <th>Dst Address</th>\n",
       "      <th>Src Port</th>\n",
       "      <th>Dst Port</th>\n",
       "    </tr>\n",
       "  </thead>\n",
       "  <tbody>\n",
       "    <tr>\n",
       "      <th>0</th>\n",
       "      <td>10.1.10.53</td>\n",
       "      <td>84.54.22.33</td>\n",
       "      <td>53</td>\n",
       "      <td>53</td>\n",
       "    </tr>\n",
       "    <tr>\n",
       "      <th>1</th>\n",
       "      <td>84.54.22.33</td>\n",
       "      <td>10.1.10.53</td>\n",
       "      <td>53</td>\n",
       "      <td>53</td>\n",
       "    </tr>\n",
       "    <tr>\n",
       "      <th>2</th>\n",
       "      <td>10.1.10.53</td>\n",
       "      <td>84.54.22.33</td>\n",
       "      <td>53</td>\n",
       "      <td>53</td>\n",
       "    </tr>\n",
       "    <tr>\n",
       "      <th>3</th>\n",
       "      <td>84.54.22.33</td>\n",
       "      <td>10.1.10.53</td>\n",
       "      <td>53</td>\n",
       "      <td>53</td>\n",
       "    </tr>\n",
       "    <tr>\n",
       "      <th>4</th>\n",
       "      <td>10.1.10.53</td>\n",
       "      <td>84.54.22.33</td>\n",
       "      <td>53</td>\n",
       "      <td>53</td>\n",
       "    </tr>\n",
       "  </tbody>\n",
       "</table>\n",
       "</div>"
      ],
      "text/plain": [
       "   Src Address  Dst Address  Src Port  Dst Port\n",
       "0   10.1.10.53  84.54.22.33        53        53\n",
       "1  84.54.22.33   10.1.10.53        53        53\n",
       "2   10.1.10.53  84.54.22.33        53        53\n",
       "3  84.54.22.33   10.1.10.53        53        53\n",
       "4   10.1.10.53  84.54.22.33        53        53"
      ]
     },
     "execution_count": 5,
     "metadata": {},
     "output_type": "execute_result"
    }
   ],
   "source": [
    "df[[\"Src Address\", \"Dst Address\", \"Src Port\", \"Dst Port\"]].head()"
   ]
  },
  {
   "cell_type": "markdown",
   "metadata": {},
   "source": [
    "Mostrar todas las IP origen"
   ]
  },
  {
   "cell_type": "code",
   "execution_count": 6,
   "metadata": {},
   "outputs": [
    {
     "name": "stdout",
     "output_type": "stream",
     "text": [
      "Todas las IP origen:\n",
      "['10.1.10.53' '84.54.22.33' '75.75.75.75']\n"
     ]
    }
   ],
   "source": [
    "ip_origenes = df[\"Src Address\"].unique()\n",
    "print(\"Todas las IP origen:\")\n",
    "print(ip_origenes)\n"
   ]
  },
  {
   "cell_type": "markdown",
   "metadata": {},
   "source": [
    "Mostrar todas las IP destino"
   ]
  },
  {
   "cell_type": "code",
   "execution_count": 7,
   "metadata": {},
   "outputs": [
    {
     "name": "stdout",
     "output_type": "stream",
     "text": [
      "Todas las IP destino:\n",
      "['84.54.22.33' '10.1.10.53' '75.75.75.75']\n"
     ]
    }
   ],
   "source": [
    "ip_destinos = df[\"Dst Address\"].unique()\n",
    "print(\"Todas las IP destino:\")\n",
    "print(ip_destinos)\n"
   ]
  },
  {
   "cell_type": "markdown",
   "metadata": {},
   "source": [
    "¿Cuál es la IP origen más frecuente?"
   ]
  },
  {
   "cell_type": "code",
   "execution_count": 8,
   "metadata": {},
   "outputs": [
    {
     "name": "stdout",
     "output_type": "stream",
     "text": [
      "IP origen más frecuente: 10.1.10.53\n"
     ]
    }
   ],
   "source": [
    "ip_origen_frecuente = df[\"Src Address\"].value_counts().idxmax()\n",
    "print(\"IP origen más frecuente:\", ip_origen_frecuente)\n"
   ]
  },
  {
   "cell_type": "markdown",
   "metadata": {},
   "source": [
    "¿A qué IP destino se comunica con más frecuencia?"
   ]
  },
  {
   "cell_type": "code",
   "execution_count": 9,
   "metadata": {},
   "outputs": [
    {
     "name": "stdout",
     "output_type": "stream",
     "text": [
      "IP destino más frecuente a la que se comunica: 84.54.22.33\n"
     ]
    }
   ],
   "source": [
    "# Filtramos el DataFrame para esa IP origen\n",
    "coms_frecuentes = df[df[\"Src Address\"] == ip_origen_frecuente]\n",
    "\n",
    "# IP destino más común desde esa IP origen\n",
    "ip_destino_frecuente = coms_frecuentes[\"Dst Address\"].value_counts().idxmax()\n",
    "print(\"IP destino más frecuente a la que se comunica:\", ip_destino_frecuente)\n"
   ]
  },
  {
   "cell_type": "markdown",
   "metadata": {},
   "source": [
    "¿A qué puerto destino se comunica? ¿Cuál es el propósito de este puerto?"
   ]
  },
  {
   "cell_type": "code",
   "execution_count": 10,
   "metadata": {},
   "outputs": [
    {
     "name": "stdout",
     "output_type": "stream",
     "text": [
      "Puerto destino más frecuente: 53\n"
     ]
    }
   ],
   "source": [
    "# Puerto destino más común desde esa IP origen\n",
    "puerto_destino_frecuente = coms_frecuentes[\"Dst Port\"].value_counts().idxmax()\n",
    "print(\"Puerto destino más frecuente:\", puerto_destino_frecuente)\n"
   ]
  },
  {
   "cell_type": "code",
   "execution_count": 11,
   "metadata": {},
   "outputs": [
    {
     "name": "stdout",
     "output_type": "stream",
     "text": [
      "Propósito del puerto: DNS (resolución de nombres)\n"
     ]
    }
   ],
   "source": [
    "puertos_conocidos = {\n",
    "    80: \"HTTP (navegación web)\",\n",
    "    443: \"HTTPS (navegación segura)\",\n",
    "    53: \"DNS (resolución de nombres)\",\n",
    "    25: \"SMTP (envío de correo)\",\n",
    "    22: \"SSH (acceso remoto seguro)\"\n",
    "}\n",
    "\n",
    "descripcion_puerto = puertos_conocidos.get(puerto_destino_frecuente, \"Propósito desconocido\")\n",
    "print(\"Propósito del puerto:\", descripcion_puerto)\n"
   ]
  },
  {
   "cell_type": "markdown",
   "metadata": {},
   "source": [
    "¿Desde que puertos origen se comunica?"
   ]
  },
  {
   "cell_type": "code",
   "execution_count": 12,
   "metadata": {},
   "outputs": [
    {
     "name": "stdout",
     "output_type": "stream",
     "text": [
      "Puertos origen únicos desde los que se comunica:\n",
      "[   53 15812 23903]\n"
     ]
    }
   ],
   "source": [
    "puertos_origen = df[\"Src Port\"].dropna().unique()\n",
    "print(\"Puertos origen únicos desde los que se comunica:\")\n",
    "print(puertos_origen)\n"
   ]
  }
 ],
 "metadata": {
  "kernelspec": {
   "display_name": "Python 3",
   "language": "python",
   "name": "python3"
  },
  "language_info": {
   "codemirror_mode": {
    "name": "ipython",
    "version": 3
   },
   "file_extension": ".py",
   "mimetype": "text/x-python",
   "name": "python",
   "nbconvert_exporter": "python",
   "pygments_lexer": "ipython3",
   "version": "3.11.9"
  }
 },
 "nbformat": 4,
 "nbformat_minor": 2
}
