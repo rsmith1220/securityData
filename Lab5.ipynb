{
 "cells": [
  {
   "cell_type": "markdown",
   "metadata": {},
   "source": [
    "Parte 1 – Filtrado y preprocesamiento\n",
    "\n",
    "Cargue la información del archivo large_even.json en una lista, muestre la cantidad de\n",
    "registros total (deben ser 746, 909). Este es nuestro tráfico inicial!"
   ]
  },
  {
   "cell_type": "code",
   "execution_count": null,
   "metadata": {},
   "outputs": [
    {
     "name": "stdout",
     "output_type": "stream",
     "text": [
      "Total de registros en el archivo: 746909\n"
     ]
    }
   ],
   "source": [
    "import json\n",
    "\n",
    "\n",
    "total_records = 0\n",
    "dns_events = []\n",
    "\n",
    "\n",
    "with open('large_eve.json', 'r') as file:\n",
    "    for line in file:\n",
    "        total_records += 1\n",
    "        try:\n",
    "            \n",
    "            data = json.loads(line)\n",
    "            if data.get('event_type') == 'dns':\n",
    "                dns_events.append(data)\n",
    "        \n",
    "            # print(data)\n",
    "        except json.JSONDecodeError as e:\n",
    "            print(f\"Error en la línea: {line}\")\n",
    "            print(f\"Detalles del error: {e}\")\n",
    "print(f\"Total de registros en el archivo: {total_records}\")"
   ]
  },
  {
   "cell_type": "markdown",
   "metadata": {},
   "source": [
    "Debido a que estamos buscando dominios web, del total de registros, solamente estamos\n",
    "interesados en los registros DNS. Cargue únicamente aquellos registros que sean DNS."
   ]
  },
  {
   "cell_type": "code",
   "execution_count": 6,
   "metadata": {},
   "outputs": [
    {
     "name": "stdout",
     "output_type": "stream",
     "text": [
      "15749 eventos DNS guardados en 'dns_events.json'.\n"
     ]
    }
   ],
   "source": [
    "\n",
    "# Guardar los eventos DNS en un nuevo archivo JSON\n",
    "with open('dns_events.json', 'w') as outfile:\n",
    "    json.dump(dns_events, outfile, indent=4)\n",
    "\n",
    "print(f\"{len(dns_events)} eventos DNS guardados en 'dns_events.json'.\")"
   ]
  }
 ],
 "metadata": {
  "kernelspec": {
   "display_name": "Python 3",
   "language": "python",
   "name": "python3"
  },
  "language_info": {
   "codemirror_mode": {
    "name": "ipython",
    "version": 3
   },
   "file_extension": ".py",
   "mimetype": "text/x-python",
   "name": "python",
   "nbconvert_exporter": "python",
   "pygments_lexer": "ipython3",
   "version": "3.11.9"
  }
 },
 "nbformat": 4,
 "nbformat_minor": 2
}
