{
 "cells": [
  {
   "cell_type": "markdown",
   "metadata": {},
   "source": [
    "🔢 Importación y carga inicial"
   ]
  },
  {
   "cell_type": "code",
   "execution_count": 2,
   "metadata": {},
   "outputs": [
    {
     "name": "stdout",
     "output_type": "stream",
     "text": [
      "Distribución de clases (0 = no fraude, 1 = fraude):\n",
      "is_fraud\n",
      "0    1842743\n",
      "1       9651\n",
      "Name: count, dtype: int64\n",
      "\n",
      "Porcentaje de cada clase:\n",
      "is_fraud\n",
      "0    99.48\n",
      "1     0.52\n",
      "Name: proportion, dtype: float64\n"
     ]
    },
    {
     "data": {
      "image/png": "[encoded data removed]",
      "text/plain": [
       "<Figure size 600x400 with 1 Axes>"
      ]
     },
     "metadata": {},
     "output_type": "display_data"
    }
   ],
   "source": [
    "import pandas as pd\n",
    "import matplotlib.pyplot as plt\n",
    "\n",
    "# Cargar el CSV\n",
    "df = pd.read_csv('data.csv')  # Cambia por el nombre de tu archivo real\n",
    "\n",
    "df['is_fraud'] = df['is_fraud'].astype(int)\n",
    "\n",
    "# Conteo de clases\n",
    "class_counts = df['is_fraud'].value_counts()\n",
    "print(\"Distribución de clases (0 = no fraude, 1 = fraude):\")\n",
    "print(class_counts)\n",
    "\n",
    "# Porcentaje\n",
    "class_percent = df['is_fraud'].value_counts(normalize=True) * 100\n",
    "print(\"\\nPorcentaje de cada clase:\")\n",
    "print(class_percent.round(2))\n",
    "\n",
    "# Visualización\n",
    "plt.figure(figsize=(6, 4))\n",
    "class_counts.plot(kind='bar')\n",
    "plt.title(\"Distribución de Clases: Fraude vs No Fraude\")\n",
    "plt.xlabel(\"¿Es Fraude?\")\n",
    "plt.ylabel(\"Cantidad de Transacciones\")\n",
    "plt.xticks(ticks=[0,1], labels=[\"No Fraude\", \"Fraude\"], rotation=0)\n",
    "plt.grid(axis='y', linestyle='--', alpha=0.7)\n",
    "plt.tight_layout()\n",
    "plt.show()\n"
   ]
  },
  {
   "cell_type": "markdown",
   "metadata": {},
   "source": [
    "📊 Variables agregadas por usuario"
   ]
  },
  {
   "cell_type": "code",
   "execution_count": 3,
   "metadata": {},
   "outputs": [],
   "source": [
    "# Transacciones por usuario\n",
    "df['transacciones_por_usuario'] = df.groupby('cc_num')['cc_num'].transform('count')\n",
    "\n",
    "# Monto total gastado por usuario\n",
    "df['monto_total_usuario'] = df.groupby('cc_num')['amt'].transform('sum')\n",
    "\n",
    "# Promedio de gasto por usuario\n",
    "df['monto_promedio_usuario'] = df['monto_total_usuario'] / df['transacciones_por_usuario']\n",
    "\n",
    "# quincena\n",
    "df['quincena'] = df['trans_day'].apply(lambda d: 'quincena_1' if d <= 15 else 'quincena_2')\n",
    "\n",
    "\n",
    "#compras lejanas\n",
    "df[\"is_international_guess\"] = df[\"dist_between_client_and_merch\"] > 1000\n",
    "\n",
    "\n",
    "# Compra de noche #horas de la noche\n",
    "df['es_noche'] = df['hour'].apply(lambda x: 1 if x < 6 or x > 22 else 0)\n",
    "\n",
    "# Distancia sospechosa\n",
    "df['distancia_muy_lejana'] = (df['dist_between_client_and_merch'] > 100).astype(int)\n",
    "\n",
    "\n"
   ]
  },
  {
   "cell_type": "code",
   "execution_count": null,
   "metadata": {},
   "outputs": [],
   "source": [
    "#distancia entre estados no distancia quemada de cliente si no un promedio o un radio \n",
    "import pandas as pd\n",
    "import numpy as np\n",
    "\n",
    "\n",
    "# distancia Haversine (distancia entre cliente y comercio)\n",
    "def haversine(lat1, lon1, lat2, lon2):\n",
    "    R = 6371  # km\n",
    "    lat1, lon1, lat2, lon2 = map(np.radians, [lat1, lon1, lat2, lon2])\n",
    "    dlat = lat2 - lat1\n",
    "    dlon = lon2 - lon1\n",
    "    a = np.sin(dlat/2.0)**2 + np.cos(lat1)*np.cos(lat2)*np.sin(dlon/2.0)**2\n",
    "    c = 2 * np.arcsin(np.sqrt(a))\n",
    "    return R * c\n",
    "\n",
    "# distancia puntual cliente-comercio\n",
    "if 'dist_between_client_and_merch' not in df.columns:\n",
    "    df['dist_between_client_and_merch'] = haversine(df['lat'], df['long'], df['merch_lat'], df['merch_long'])\n",
    "\n",
    "# estado cliente = estado comercio si no hay merch_state en el datset\n",
    "df['merch_state'] = df['state']\n",
    "\n",
    "# Calcular la distancia promedio\n",
    "df['distancia'] = haversine(df['lat'], df['long'], df['merch_lat'], df['merch_long'])\n",
    "promedios_estado = df.groupby(['state', 'merch_state'])['distancia'].mean().reset_index()\n",
    "promedios_estado.columns = ['state', 'merch_state', 'distancia_estado_promedio']\n",
    "\n",
    "# Unir el promedio al df original\n",
    "df = df.merge(promedios_estado, on=['state', 'merch_state'], how='left')\n",
    "\n",
    "# Crear variable binaria de distancia sospechosa\n",
    "umbral = df['distancia_estado_promedio'].median()\n",
    "df['distancia_estado_sospechosa'] = (df['distancia_estado_promedio'] > umbral).astype(int)\n",
    "\n",
    "# borrar columnas intermedias\n",
    "df.drop(columns=['distancia'], inplace=True)\n"
   ]
  },
  {
   "cell_type": "code",
   "execution_count": 6,
   "metadata": {},
   "outputs": [
    {
     "name": "stdout",
     "output_type": "stream",
     "text": [
      "category\n",
      "shopping_net      0.015927\n",
      "misc_net          0.013039\n",
      "grocery_pos       0.012645\n",
      "shopping_pos      0.006344\n",
      "gas_transport     0.004106\n",
      "misc_pos          0.002819\n",
      "grocery_net       0.002697\n",
      "travel            0.002692\n",
      "personal_care     0.002229\n",
      "entertainment     0.002177\n",
      "kids_pets         0.001880\n",
      "food_dining       0.001568\n",
      "home              0.001510\n",
      "health_fitness    0.001510\n",
      "Name: is_fraud, dtype: float64\n"
     ]
    }
   ],
   "source": [
    "categorias_riesgosas = ['misc_net', 'shopping_net', 'shopping_pos']\n",
    "\n",
    "df['comercio_riesgoso'] = df['category'].isin(categorias_riesgosas).astype(int)\n",
    "\n",
    "\n",
    "riesgo_por_categoria = df.groupby('category')['is_fraud'].mean().sort_values(ascending=False)\n",
    "print(riesgo_por_categoria)\n"
   ]
  },
  {
   "cell_type": "markdown",
   "metadata": {},
   "source": [
    "💰 Alto riesgo"
   ]
  },
  {
   "cell_type": "code",
   "execution_count": null,
   "metadata": {},
   "outputs": [],
   "source": [
    "umbral_alto = df['amt'].quantile(0.90) \n",
    "\n",
    "df['transaccion_alto_riesgo'] = ((df['amt'] > umbral_alto) & (df['comercio_riesgoso'] == 1)).astype(int)\n"
   ]
  },
  {
   "cell_type": "markdown",
   "metadata": {},
   "source": [
    "🤖 Modelo"
   ]
  },
  {
   "cell_type": "code",
   "execution_count": 22,
   "metadata": {},
   "outputs": [
    {
     "name": "stdout",
     "output_type": "stream",
     "text": [
      "[LightGBM] [Info] Number of positive: 7238, number of negative: 1382057\n",
      "[LightGBM] [Info] Auto-choosing row-wise multi-threading, the overhead of testing was 0.005952 seconds.\n",
      "You can set `force_row_wise=true` to remove the overhead.\n",
      "And if memory is not enough, you can set `force_col_wise=true`.\n",
      "[LightGBM] [Info] Total Bins 1068\n",
      "[LightGBM] [Info] Number of data points in the train set: 1389295, number of used features: 7\n",
      "[LightGBM] [Info] [binary:BoostFromScore]: pavg=0.500000 -> initscore=0.000000\n",
      "[LightGBM] [Info] Start training from score 0.000000\n",
      "[LightGBM] [Warning] No further splits with positive gain, best gain: -inf\n",
      "[LightGBM] [Warning] No further splits with positive gain, best gain: -inf\n",
      "[LightGBM] [Warning] No further splits with positive gain, best gain: -inf\n",
      "[LightGBM] [Warning] No further splits with positive gain, best gain: -inf\n",
      "[LightGBM] [Warning] No further splits with positive gain, best gain: -inf\n",
      "[LightGBM] [Warning] No further splits with positive gain, best gain: -inf\n",
      "[LightGBM] [Warning] No further splits with positive gain, best gain: -inf\n",
      "[LightGBM] [Warning] No further splits with positive gain, best gain: -inf\n",
      "[LightGBM] [Warning] No further splits with positive gain, best gain: -inf\n",
      "[LightGBM] [Warning] No further splits with positive gain, best gain: -inf\n",
      "[LightGBM] [Warning] No further splits with positive gain, best gain: -inf\n",
      "[LightGBM] [Warning] No further splits with positive gain, best gain: -inf\n",
      "[LightGBM] [Warning] No further splits with positive gain, best gain: -inf\n",
      "[LightGBM] [Warning] No further splits with positive gain, best gain: -inf\n",
      "[LightGBM] [Warning] No further splits with positive gain, best gain: -inf\n",
      "[LightGBM] [Warning] No further splits with positive gain, best gain: -inf\n",
      "[LightGBM] [Warning] No further splits with positive gain, best gain: -inf\n",
      "[LightGBM] [Warning] No further splits with positive gain, best gain: -inf\n",
      "[LightGBM] [Warning] No further splits with positive gain, best gain: -inf\n",
      "[LightGBM] [Warning] No further splits with positive gain, best gain: -inf\n"
     ]
    }
   ],
   "source": [
    "from lightgbm import LGBMClassifier\n",
    "from sklearn.model_selection import train_test_split\n",
    "from sklearn.metrics import classification_report, f1_score, roc_auc_score, recall_score, precision_score\n",
    "\n",
    "# Selección de features (puedes ajustar esta lista si agregaste más variables)\n",
    "features = [\n",
    "    'amt', 'amt_month', 'amt_year',\n",
    "    'first_time_at_merchant', 'count_month_shopping_net',\n",
    "    'dist_between_client_and_merch', 'distancia_estado_sospechosa'\n",
    "]\n",
    "\n",
    "# Preparación de datos\n",
    "X = df[features]\n",
    "y = df['is_fraud']\n",
    "X_train, X_test, y_train, y_test = train_test_split(X, y, stratify=y, random_state=42)\n",
    "\n",
    "# Entrenamiento con parámetros ajustados\n",
    "model = LGBMClassifier(\n",
    "    random_state=42,\n",
    "    class_weight='balanced',\n",
    "    n_estimators=200,\n",
    "    learning_rate=0.05,\n",
    "    max_depth=5,\n",
    "    num_leaves=31\n",
    ")\n",
    "model.fit(X_train, y_train)\n",
    "\n",
    "# Probabilidades y predicción estándar\n",
    "y_proba = model.predict_proba(X_test)[:, 1]\n",
    "y_pred = (y_proba > 0.5).astype(int)  # Podemos ajustar este umbral más adelante\n"
   ]
  },
  {
   "cell_type": "code",
   "execution_count": 23,
   "metadata": {},
   "outputs": [
    {
     "name": "stdout",
     "output_type": "stream",
     "text": [
      "Evaluación con diferentes umbrales:\n",
      "Umbral: 0.30 → Precisión: 0.036, Recall: 0.951, F1: 0.070\n",
      "Umbral: 0.40 → Precisión: 0.049, Recall: 0.928, F1: 0.093\n",
      "Umbral: 0.50 → Precisión: 0.065, Recall: 0.904, F1: 0.122\n",
      "Umbral: 0.60 → Precisión: 0.087, Recall: 0.878, F1: 0.158\n"
     ]
    }
   ],
   "source": [
    "print(\"Evaluación con diferentes umbrales:\")\n",
    "for threshold in [0.3, 0.4, 0.5, 0.6]:\n",
    "    y_pred_thr = (y_proba > threshold).astype(int)\n",
    "    prec = precision_score(y_test, y_pred_thr)\n",
    "    rec = recall_score(y_test, y_pred_thr)\n",
    "    f1 = f1_score(y_test, y_pred_thr)\n",
    "    print(f\"Umbral: {threshold:.2f} → Precisión: {prec:.3f}, Recall: {rec:.3f}, F1: {f1:.3f}\")\n"
   ]
  },
  {
   "cell_type": "code",
   "execution_count": 24,
   "metadata": {},
   "outputs": [
    {
     "name": "stdout",
     "output_type": "stream",
     "text": [
      "\n",
      "🛑 Recall en transacciones de alto riesgo: 0.998\n",
      "🎯 Precisión en transacciones de alto riesgo: 0.163\n"
     ]
    }
   ],
   "source": [
    "# Evaluación específica en transacciones de alto riesgo\n",
    "alto_riesgo_idx = X_test[df.loc[X_test.index, 'transaccion_alto_riesgo'] == 1].index\n",
    "y_pred_riesgo = model.predict(X_test.loc[alto_riesgo_idx])\n",
    "\n",
    "recall_alto_riesgo = recall_score(y_test.loc[alto_riesgo_idx], y_pred_riesgo)\n",
    "precision_alto_riesgo = precision_score(y_test.loc[alto_riesgo_idx], y_pred_riesgo)\n",
    "\n",
    "print(f\"\\n🛑 Recall en transacciones de alto riesgo: {recall_alto_riesgo:.3f}\")\n",
    "print(f\"🎯 Precisión en transacciones de alto riesgo: {precision_alto_riesgo:.3f}\")\n"
   ]
  }
 ],
 "metadata": {
  "kernelspec": {
   "display_name": "Python 3",
   "language": "python",
   "name": "python3"
  },
  "language_info": {
   "codemirror_mode": {
    "name": "ipython",
    "version": 3
   },
   "file_extension": ".py",
   "mimetype": "text/x-python",
   "name": "python",
   "nbconvert_exporter": "python",
   "pygments_lexer": "ipython3",
   "version": "3.11.9"
  }
 },
 "nbformat": 4,
 "nbformat_minor": 2
}
