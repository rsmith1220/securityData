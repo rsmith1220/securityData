{
 "cells": [
  {
   "cell_type": "markdown",
   "metadata": {},
   "source": [
    "🔢 Importación y carga inicial"
   ]
  },
  {
   "cell_type": "code",
   "execution_count": 1,
   "metadata": {},
   "outputs": [
    {
     "name": "stdout",
     "output_type": "stream",
     "text": [
      "Distribución de clases (0 = no fraude, 1 = fraude):\n",
      "is_fraud\n",
      "0    1842743\n",
      "1       9651\n",
      "Name: count, dtype: int64\n",
      "\n",
      "Porcentaje de cada clase:\n",
      "is_fraud\n",
      "0    99.48\n",
      "1     0.52\n",
      "Name: proportion, dtype: float64\n"
     ]
    },
    {
     "data": {
      "image/png": "[encoded data removed]",
      "text/plain": [
       "<Figure size 600x400 with 1 Axes>"
      ]
     },
     "metadata": {},
     "output_type": "display_data"
    }
   ],
   "source": [
    "import pandas as pd\n",
    "import matplotlib.pyplot as plt\n",
    "\n",
    "# Cargar el CSV\n",
    "df = pd.read_csv('data.csv')  # Cambia por el nombre de tu archivo real\n",
    "\n",
    "df['is_fraud'] = df['is_fraud'].astype(int)\n",
    "\n",
    "# Conteo de clases\n",
    "class_counts = df['is_fraud'].value_counts()\n",
    "print(\"Distribución de clases (0 = no fraude, 1 = fraude):\")\n",
    "print(class_counts)\n",
    "\n",
    "# Porcentaje\n",
    "class_percent = df['is_fraud'].value_counts(normalize=True) * 100\n",
    "print(\"\\nPorcentaje de cada clase:\")\n",
    "print(class_percent.round(2))\n",
    "\n",
    "# Visualización\n",
    "plt.figure(figsize=(6, 4))\n",
    "class_counts.plot(kind='bar')\n",
    "plt.title(\"Distribución de Clases: Fraude vs No Fraude\")\n",
    "plt.xlabel(\"¿Es Fraude?\")\n",
    "plt.ylabel(\"Cantidad de Transacciones\")\n",
    "plt.xticks(ticks=[0,1], labels=[\"No Fraude\", \"Fraude\"], rotation=0)\n",
    "plt.grid(axis='y', linestyle='--', alpha=0.7)\n",
    "plt.tight_layout()\n",
    "plt.show()\n"
   ]
  },
  {
   "cell_type": "markdown",
   "metadata": {},
   "source": [
    "📊 Variables agregadas por usuario"
   ]
  },
  {
   "cell_type": "code",
   "execution_count": null,
   "metadata": {},
   "outputs": [],
   "source": [
    "# Transacciones por usuario\n",
    "df['transacciones_por_usuario'] = df.groupby('cc_num')['cc_num'].transform('count')\n",
    "\n",
    "# Monto total gastado por usuario\n",
    "df['monto_total_usuario'] = df.groupby('cc_num')['amt'].transform('sum')\n",
    "\n",
    "# Promedio de gasto por usuario\n",
    "df['monto_promedio_usuario'] = df['monto_total_usuario'] / df['transacciones_por_usuario']\n",
    "\n",
    "# quincena\n",
    "df['quincena'] = df['trans_day'].apply(lambda d: 'quincena_1' if d <= 15 else 'quincena_2')\n",
    "\n",
    "\n",
    "#compras lejanas\n",
    "df[\"is_international_guess\"] = df[\"dist_between_client_and_merch\"] > 1000\n",
    "\n",
    "\n",
    "# Compra de noche #horas de la noche\n",
    "df['es_noche'] = df['hour'].apply(lambda x: 1 if x < 6 or x > 22 else 0)\n",
    "\n",
    "# Distancia sospechosa\n",
    "df['distancia_muy_lejana'] = (df['dist_between_client_and_merch'] > 100).astype(int)\n",
    "\n",
    "\n"
   ]
  },
  {
   "cell_type": "code",
   "execution_count": null,
   "metadata": {},
   "outputs": [],
   "source": [
    "#distancia entre estados no distancia quemada de cliente si no un promedio o un radio "
   ]
  },
  {
   "cell_type": "code",
   "execution_count": 3,
   "metadata": {},
   "outputs": [
    {
     "name": "stdout",
     "output_type": "stream",
     "text": [
      "category\n",
      "shopping_net      0.015927\n",
      "misc_net          0.013039\n",
      "grocery_pos       0.012645\n",
      "shopping_pos      0.006344\n",
      "gas_transport     0.004106\n",
      "misc_pos          0.002819\n",
      "grocery_net       0.002697\n",
      "travel            0.002692\n",
      "personal_care     0.002229\n",
      "entertainment     0.002177\n",
      "kids_pets         0.001880\n",
      "food_dining       0.001568\n",
      "home              0.001510\n",
      "health_fitness    0.001510\n",
      "Name: is_fraud, dtype: float64\n"
     ]
    }
   ],
   "source": [
    "categorias_riesgosas = ['misc_net', 'shopping_net', 'shopping_pos']\n",
    "\n",
    "df['comercio_riesgoso'] = df['category'].isin(categorias_riesgosas).astype(int)\n",
    "\n",
    "\n",
    "riesgo_por_categoria = df.groupby('category')['is_fraud'].mean().sort_values(ascending=False)\n",
    "print(riesgo_por_categoria)\n"
   ]
  },
  {
   "cell_type": "markdown",
   "metadata": {},
   "source": [
    "💰 Alto riesgo"
   ]
  },
  {
   "cell_type": "code",
   "execution_count": 4,
   "metadata": {},
   "outputs": [],
   "source": [
    "umbral_alto = df['amt'].quantile(0.90)  # o cualquier otro criterio\n",
    "\n",
    "df['transaccion_alto_riesgo'] = ((df['amt'] > umbral_alto) & (df['comercio_riesgoso'] == 1)).astype(int)\n"
   ]
  },
  {
   "cell_type": "code",
   "execution_count": null,
   "metadata": {},
   "outputs": [],
   "source": [
    "import lightgbm as lgb\n",
    "from sklearn.model_selection import train_test_split\n",
    "from sklearn.metrics import roc_auc_score, f1_score, confusion_matrix, classification_report\n",
    "import matplotlib.pyplot as plt\n",
    "import seaborn as sns\n",
    "import pandas as pd\n",
    "\n",
    "#Excluir columnas no útiles\n",
    "exclude_cols = ['cc_num', 'first', 'last', 'street', 'job', 'dob', 'trans_num', 'merchant']\n",
    "X = df.drop(columns=exclude_cols, errors='ignore')\n",
    "y = df['is_fraud']\n",
    "\n",
    "#Convertir categóricas a dummies\n",
    "X = pd.get_dummies(X)\n",
    "\n",
    "#Convertir booleanos a enteros\n",
    "X = X.apply(lambda col: col.astype(int) if col.dtype == 'bool' else col)\n",
    "\n",
    "#Separar train y test\n",
    "X_train, X_test, y_train, y_test = train_test_split(\n",
    "    X, y, test_size=0.3, stratify=y, random_state=42\n",
    ")\n",
    "\n"
   ]
  },
  {
   "cell_type": "code",
   "execution_count": null,
   "metadata": {},
   "outputs": [
    {
     "name": "stdout",
     "output_type": "stream",
     "text": [
      "[LightGBM] [Warning] Found whitespace in feature_names, replace with underlines\n",
      "[LightGBM] [Info] Number of positive: 6756, number of negative: 1289919\n",
      "[LightGBM] [Info] Auto-choosing row-wise multi-threading, the overhead of testing was 0.067502 seconds.\n",
      "You can set `force_row_wise=true` to remove the overhead.\n",
      "And if memory is not enough, you can set `force_col_wise=true`.\n",
      "[LightGBM] [Info] Total Bins 5674\n",
      "[LightGBM] [Info] Number of data points in the train set: 1296675, number of used features: 938\n",
      "[LightGBM] [Info] [binary:BoostFromScore]: pavg=0.005210 -> initscore=-5.251904\n",
      "[LightGBM] [Info] Start training from score -5.251904\n",
      "[LightGBM] [Warning] No further splits with positive gain, best gain: -inf\n",
      "[LightGBM] [Warning] No further splits with positive gain, best gain: -inf\n",
      "[LightGBM] [Warning] No further splits with positive gain, best gain: -inf\n",
      "[LightGBM] [Warning] No further splits with positive gain, best gain: -inf\n",
      "[LightGBM] [Warning] No further splits with positive gain, best gain: -inf\n",
      "[LightGBM] [Warning] No further splits with positive gain, best gain: -inf\n",
      "[LightGBM] [Warning] No further splits with positive gain, best gain: -inf\n",
      "[LightGBM] [Warning] No further splits with positive gain, best gain: -inf\n",
      "[LightGBM] [Warning] No further splits with positive gain, best gain: -inf\n",
      "[LightGBM] [Warning] No further splits with positive gain, best gain: -inf\n",
      "[LightGBM] [Warning] No further splits with positive gain, best gain: -inf\n",
      "[LightGBM] [Warning] No further splits with positive gain, best gain: -inf\n",
      "[LightGBM] [Warning] No further splits with positive gain, best gain: -inf\n",
      "[LightGBM] [Warning] No further splits with positive gain, best gain: -inf\n",
      "[LightGBM] [Warning] No further splits with positive gain, best gain: -inf\n",
      "[LightGBM] [Warning] No further splits with positive gain, best gain: -inf\n",
      "[LightGBM] [Warning] No further splits with positive gain, best gain: -inf\n",
      "[LightGBM] [Warning] No further splits with positive gain, best gain: -inf\n",
      "[LightGBM] [Warning] No further splits with positive gain, best gain: -inf\n",
      "[LightGBM] [Warning] No further splits with positive gain, best gain: -inf\n",
      "[LightGBM] [Warning] No further splits with positive gain, best gain: -inf\n",
      "[LightGBM] [Warning] No further splits with positive gain, best gain: -inf\n",
      "[LightGBM] [Warning] No further splits with positive gain, best gain: -inf\n",
      "[LightGBM] [Warning] No further splits with positive gain, best gain: -inf\n",
      "[LightGBM] [Warning] No further splits with positive gain, best gain: -inf\n",
      "[LightGBM] [Warning] No further splits with positive gain, best gain: -inf\n",
      "[LightGBM] [Warning] No further splits with positive gain, best gain: -inf\n",
      "[LightGBM] [Warning] No further splits with positive gain, best gain: -inf\n",
      "[LightGBM] [Warning] No further splits with positive gain, best gain: -inf\n",
      "AUC-ROC: 1.0000\n",
      "F1-score: 1.0000\n",
      "\n",
      "Reporte de clasificación:\n",
      "              precision    recall  f1-score   support\n",
      "\n",
      "           0       1.00      1.00      1.00    552824\n",
      "           1       1.00      1.00      1.00      2895\n",
      "\n",
      "    accuracy                           1.00    555719\n",
      "   macro avg       1.00      1.00      1.00    555719\n",
      "weighted avg       1.00      1.00      1.00    555719\n",
      "\n"
     ]
    },
    {
     "data": {
      "image/png": "[encoded data removed]",
      "text/plain": [
       "<Figure size 640x480 with 2 Axes>"
      ]
     },
     "metadata": {},
     "output_type": "display_data"
    }
   ],
   "source": [
    "#Entrenar modelo base con LightGBM\n",
    "modelo = lgb.LGBMClassifier(random_state=42)\n",
    "modelo.fit(X_train, y_train)\n",
    "\n",
    "#Predicciones\n",
    "y_pred = modelo.predict(X_test)\n",
    "y_prob = modelo.predict_proba(X_test)[:, 1]\n",
    "\n",
    "# Evaluar desempeño\n",
    "auc = roc_auc_score(y_test, y_prob)\n",
    "f1 = f1_score(y_test, y_pred)\n",
    "print(f\"AUC-ROC: {auc:.4f}\")\n",
    "print(f\"F1-score: {f1:.4f}\")\n",
    "\n",
    "# Matriz de confusión y reporte\n",
    "print(\"\\nReporte de clasificación:\")\n",
    "print(classification_report(y_test, y_pred))\n",
    "\n",
    "cm = confusion_matrix(y_test, y_pred)\n",
    "sns.heatmap(cm, annot=True, fmt=\"d\", cmap=\"Blues\")\n",
    "plt.title(\"Matriz de Confusión\")\n",
    "plt.xlabel(\"Predicción\")\n",
    "plt.ylabel(\"Real\")\n",
    "plt.show()\n"
   ]
  },
  {
   "cell_type": "markdown",
   "metadata": {},
   "source": [
    "🔍  Limpieza para modelo base"
   ]
  },
  {
   "cell_type": "code",
   "execution_count": null,
   "metadata": {},
   "outputs": [
    {
     "name": "stdout",
     "output_type": "stream",
     "text": [
      "[LightGBM] [Info] Number of positive: 6756, number of negative: 1289919\n",
      "[LightGBM] [Info] Auto-choosing row-wise multi-threading, the overhead of testing was 0.011403 seconds.\n",
      "You can set `force_row_wise=true` to remove the overhead.\n",
      "And if memory is not enough, you can set `force_col_wise=true`.\n",
      "[LightGBM] [Info] Total Bins 2728\n",
      "[LightGBM] [Info] Number of data points in the train set: 1296675, number of used features: 715\n",
      "[LightGBM] [Info] [binary:BoostFromScore]: pavg=0.005210 -> initscore=-5.251904\n",
      "[LightGBM] [Info] Start training from score -5.251904\n",
      "AUC: 0.896253206678514\n",
      "F1-score: 0.6458141674333027\n"
     ]
    }
   ],
   "source": [
    "#verificar que es la compra internacional para sacar el modelo (entre estados y asi)\n",
    "\n",
    "\n",
    "columnas_originales = [\n",
    "    'amt', 'category', 'merchant', 'lat', 'long',\n",
    "    'merch_lat', 'merch_long', 'hour', 'trans_day', 'trans_month'\n",
    "]\n",
    "\n",
    "df_simple = df[columnas_originales + ['is_fraud']].copy()\n",
    "\n",
    "# One-hot encoding\n",
    "df_simple = pd.get_dummies(df_simple)\n",
    "\n",
    "# Reemplazar caracteres especiales en los nombres de las columnas\n",
    "df_simple.columns = df_simple.columns.str.replace('[^A-Za-z0-9_]+', '_', regex=True)\n",
    "\n",
    "# Separar features y etiquetas\n",
    "X = df_simple.drop(columns=['is_fraud'])\n",
    "y = df_simple['is_fraud']\n",
    "\n",
    "# División en entrenamiento y test\n",
    "from sklearn.model_selection import train_test_split\n",
    "from sklearn.metrics import roc_auc_score, f1_score\n",
    "\n",
    "X_train, X_test, y_train, y_test = train_test_split(X, y, stratify=y, test_size=0.3, random_state=42)\n",
    "\n",
    "# Entrenamiento del modelo base\n",
    "import lightgbm as lgb\n",
    "\n",
    "modelo = lgb.LGBMClassifier(random_state=42)\n",
    "modelo.fit(X_train, y_train)\n",
    "\n",
    "# Predicciones\n",
    "y_pred = modelo.predict(X_test)\n",
    "y_prob = modelo.predict_proba(X_test)[:, 1]\n",
    "\n",
    "# Evaluación\n",
    "print(\"AUC:\", roc_auc_score(y_test, y_prob))\n",
    "print(\"F1-score:\", f1_score(y_test, y_pred))\n"
   ]
  },
  {
   "cell_type": "code",
   "execution_count": 20,
   "metadata": {},
   "outputs": [
    {
     "name": "stdout",
     "output_type": "stream",
     "text": [
      "Fraudes detectados (True Positives): 1755\n",
      "Falsos positivos: 785\n",
      "Verdaderos negativos: 552039\n",
      "Fraudes no detectados (False Negatives): 1140\n"
     ]
    }
   ],
   "source": [
    "from sklearn.metrics import confusion_matrix\n",
    "\n",
    "# Matriz de confusión\n",
    "cm = confusion_matrix(y_test, y_pred)\n",
    "tn, fp, fn, tp = cm.ravel()\n",
    "\n",
    "print(f\"Fraudes detectados (True Positives): {tp}\")\n",
    "print(f\"Falsos positivos: {fp}\")\n",
    "print(f\"Verdaderos negativos: {tn}\")\n",
    "print(f\"Fraudes no detectados (False Negatives): {fn}\")\n"
   ]
  }
 ],
 "metadata": {
  "kernelspec": {
   "display_name": "Python 3",
   "language": "python",
   "name": "python3"
  },
  "language_info": {
   "codemirror_mode": {
    "name": "ipython",
    "version": 3
   },
   "file_extension": ".py",
   "mimetype": "text/x-python",
   "name": "python",
   "nbconvert_exporter": "python",
   "pygments_lexer": "ipython3",
   "version": "3.11.9"
  }
 },
 "nbformat": 4,
 "nbformat_minor": 2
}
