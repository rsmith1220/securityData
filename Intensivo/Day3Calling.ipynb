{
 "cells": [
  {
   "cell_type": "markdown",
   "metadata": {
    "id": "b6e13eef3f5d"
   },
   "source": [
    "##### Copyright 2024 Google LLC."
   ]
  },
  {
   "cell_type": "markdown",
   "metadata": {
    "id": "4a7d3bb68371"
   },
   "source": [
    "# Day 3 - Function calling with the Gemini API\n",
    "\n",
    "Welcome back to the Kaggle 5-day Generative AI course!\n",
    "\n",
    "In this notebook, you will use the Gemini API's automatic function calling to build a chat interface over a local database. This example is a toy and is missing a number of safety and security constraints you would use in a real-world example.\n",
    "\n",
    "## For help\n",
    "\n",
    "**Common issues are covered in the [FAQ and troubleshooting guide](https://www.kaggle.com/code/markishere/day-0-troubleshooting-and-faqs).**"
   ]
  },
  {
   "cell_type": "markdown",
   "metadata": {
    "id": "ea197d1d464f"
   },
   "source": [
    "## Setup\n",
    "\n",
    "Start by installing and importing the Python SDK."
   ]
  },
  {
   "cell_type": "code",
   "execution_count": 1,
   "metadata": {
    "execution": {
     "iopub.execute_input": "2025-03-17T19:54:24.138244Z",
     "iopub.status.busy": "2025-03-17T19:54:24.137895Z",
     "iopub.status.idle": "2025-03-17T19:54:55.466390Z",
     "shell.execute_reply": "2025-03-17T19:54:55.465124Z",
     "shell.execute_reply.started": "2025-03-17T19:54:24.138208Z"
    },
    "id": "a24f42e469df",
    "trusted": true
   },
   "outputs": [
    {
     "name": "stdout",
     "output_type": "stream",
     "text": [
      "Note: you may need to restart the kernel to use updated packages.\n"
     ]
    }
   ],
   "source": [
    "%pip install -q -U 'google-generativeai>=0.8.3'"
   ]
  },
  {
   "cell_type": "code",
   "execution_count": 2,
   "metadata": {
    "execution": {
     "iopub.execute_input": "2025-03-17T19:55:00.971284Z",
     "iopub.status.busy": "2025-03-17T19:55:00.970790Z",
     "iopub.status.idle": "2025-03-17T19:55:02.141636Z",
     "shell.execute_reply": "2025-03-17T19:55:02.140725Z",
     "shell.execute_reply.started": "2025-03-17T19:55:00.971227Z"
    },
    "id": "02bb0f551e25",
    "trusted": true
   },
   "outputs": [],
   "source": [
    "import google.generativeai as genai"
   ]
  },
  {
   "cell_type": "markdown",
   "metadata": {
    "id": "90e83cddff61"
   },
   "source": [
    "### Set up your API key\n",
    "\n",
    "To run the following cell, your API key must be stored it in a [Kaggle secret](https://www.kaggle.com/discussions/product-feedback/114053) named `GOOGLE_API_KEY`.\n",
    "\n",
    "If you don't already have an API key, you can grab one from [AI Studio](https://aistudio.google.com/app/apikey). You can find [detailed instructions in the docs](https://ai.google.dev/gemini-api/docs/api-key).\n",
    "\n",
    "To make the key available through Kaggle secrets, choose `Secrets` from the `Add-ons` menu and follow the instructions to add your key or enable it for this notebook."
   ]
  },
  {
   "cell_type": "code",
   "execution_count": null,
   "metadata": {
    "execution": {
     "iopub.execute_input": "2025-03-17T19:55:08.193140Z",
     "iopub.status.busy": "2025-03-17T19:55:08.192715Z",
     "iopub.status.idle": "2025-03-17T19:55:08.198441Z",
     "shell.execute_reply": "2025-03-17T19:55:08.197317Z",
     "shell.execute_reply.started": "2025-03-17T19:55:08.193105Z"
    },
    "id": "5cc8325f051d",
    "trusted": true
   },
   "outputs": [],
   "source": [
    "from kaggle_secrets import UserSecretsClient\n",
    "\n",
    "\n",
    "GOOGLE_API_KEY = \"GEMINI KEY\"\n",
    "genai.configure(api_key=GOOGLE_API_KEY)"
   ]
  },
  {
   "cell_type": "markdown",
   "metadata": {
    "id": "ed8fc6062c62"
   },
   "source": [
    "## Create a local database\n",
    "\n",
    "For this minimal example, you'll create a local SQLite database and add some synthetic data so you have something to query.\n",
    "\n",
    "Load the `sql` IPython extension so you can interact with the database using magic commands (the `%` instructions) to create a new, empty SQLite database."
   ]
  },
  {
   "cell_type": "code",
   "execution_count": 5,
   "metadata": {
    "execution": {
     "iopub.execute_input": "2025-03-17T19:55:11.838721Z",
     "iopub.status.busy": "2025-03-17T19:55:11.838360Z",
     "iopub.status.idle": "2025-03-17T19:55:13.062077Z",
     "shell.execute_reply": "2025-03-17T19:55:13.061065Z",
     "shell.execute_reply.started": "2025-03-17T19:55:11.838691Z"
    },
    "id": "c98a627ef07b",
    "trusted": true
   },
   "outputs": [],
   "source": [
    "%load_ext sql\n",
    "%sql sqlite:///sample.db"
   ]
  },
  {
   "cell_type": "markdown",
   "metadata": {
    "id": "14e7bc18b8af"
   },
   "source": [
    "Create the tables and insert some synthetic data. Feel free to tweak this structure and data."
   ]
  },
  {
   "cell_type": "code",
   "execution_count": 6,
   "metadata": {
    "execution": {
     "iopub.execute_input": "2025-03-17T19:55:19.081931Z",
     "iopub.status.busy": "2025-03-17T19:55:19.081323Z",
     "iopub.status.idle": "2025-03-17T19:55:19.177696Z",
     "shell.execute_reply": "2025-03-17T19:55:19.176614Z",
     "shell.execute_reply.started": "2025-03-17T19:55:19.081891Z"
    },
    "id": "4e186de46cf1",
    "trusted": true
   },
   "outputs": [
    {
     "name": "stdout",
     "output_type": "stream",
     "text": [
      " * sqlite:///sample.db\n",
      "Done.\n",
      "Done.\n",
      "Done.\n",
      "3 rows affected.\n",
      "3 rows affected.\n",
      "3 rows affected.\n"
     ]
    },
    {
     "data": {
      "text/plain": [
       "[]"
      ]
     },
     "execution_count": 6,
     "metadata": {},
     "output_type": "execute_result"
    }
   ],
   "source": [
    "%%sql\n",
    "-- Create the 'products' table\n",
    "CREATE TABLE IF NOT EXISTS products (\n",
    "  \tproduct_id INTEGER PRIMARY KEY AUTOINCREMENT,\n",
    "  \tproduct_name VARCHAR(255) NOT NULL,\n",
    "  \tprice DECIMAL(10, 2) NOT NULL\n",
    "  );\n",
    "\n",
    "-- Create the 'staff' table\n",
    "CREATE TABLE IF NOT EXISTS staff (\n",
    "  \tstaff_id INTEGER PRIMARY KEY AUTOINCREMENT,\n",
    "  \tfirst_name VARCHAR(255) NOT NULL,\n",
    "  \tlast_name VARCHAR(255) NOT NULL\n",
    "  );\n",
    "\n",
    "-- Create the 'orders' table\n",
    "CREATE TABLE IF NOT EXISTS orders (\n",
    "  \torder_id INTEGER PRIMARY KEY AUTOINCREMENT,\n",
    "  \tcustomer_name VARCHAR(255) NOT NULL,\n",
    "  \tstaff_id INTEGER NOT NULL,\n",
    "  \tproduct_id INTEGER NOT NULL,\n",
    "  \tFOREIGN KEY (staff_id) REFERENCES staff (staff_id),\n",
    "  \tFOREIGN KEY (product_id) REFERENCES products (product_id)\n",
    "  );\n",
    "\n",
    "-- Insert data into the 'products' table\n",
    "INSERT INTO products (product_name, price) VALUES\n",
    "  \t('Laptop', 799.99),\n",
    "  \t('Keyboard', 129.99),\n",
    "  \t('Mouse', 29.99);\n",
    "\n",
    "-- Insert data into the 'staff' table\n",
    "INSERT INTO staff (first_name, last_name) VALUES\n",
    "  \t('Alice', 'Smith'),\n",
    "  \t('Bob', 'Johnson'),\n",
    "  \t('Charlie', 'Williams');\n",
    "\n",
    "-- Insert data into the 'orders' table\n",
    "INSERT INTO orders (customer_name, staff_id, product_id) VALUES\n",
    "  \t('David Lee', 1, 1),\n",
    "  \t('Emily Chen', 2, 2),\n",
    "  \t('Frank Brown', 1, 3);"
   ]
  },
  {
   "cell_type": "code",
   "execution_count": 7,
   "metadata": {
    "execution": {
     "iopub.execute_input": "2025-03-17T19:55:24.075745Z",
     "iopub.status.busy": "2025-03-17T19:55:24.075350Z",
     "iopub.status.idle": "2025-03-17T19:55:24.080955Z",
     "shell.execute_reply": "2025-03-17T19:55:24.079870Z",
     "shell.execute_reply.started": "2025-03-17T19:55:24.075709Z"
    },
    "id": "437168bc6b6e",
    "trusted": true
   },
   "outputs": [],
   "source": [
    "import sqlite3\n",
    "\n",
    "db_file = \"sample.db\"\n",
    "db_conn = sqlite3.connect(db_file)"
   ]
  },
  {
   "cell_type": "markdown",
   "metadata": {
    "id": "b68b1a2c37d9"
   },
   "source": [
    "The first function will list all tables available in the database. Define it, and test it out to ensure it works."
   ]
  },
  {
   "cell_type": "code",
   "execution_count": 8,
   "metadata": {
    "execution": {
     "iopub.execute_input": "2025-03-17T19:55:27.591414Z",
     "iopub.status.busy": "2025-03-17T19:55:27.591020Z",
     "iopub.status.idle": "2025-03-17T19:55:27.601414Z",
     "shell.execute_reply": "2025-03-17T19:55:27.600319Z",
     "shell.execute_reply.started": "2025-03-17T19:55:27.591380Z"
    },
    "id": "bdb0e4d2bb4b",
    "trusted": true
   },
   "outputs": [
    {
     "name": "stdout",
     "output_type": "stream",
     "text": [
      " - DB CALL: list_tables\n"
     ]
    },
    {
     "data": {
      "text/plain": [
       "['products', 'sqlite_sequence', 'staff', 'orders']"
      ]
     },
     "execution_count": 8,
     "metadata": {},
     "output_type": "execute_result"
    }
   ],
   "source": [
    "def list_tables() -> list[str]:\n",
    "    \"\"\"Retrieve the names of all tables in the database.\"\"\"\n",
    "    # Include print logging statements so you can see when functions are being called.\n",
    "    print(' - DB CALL: list_tables')\n",
    "\n",
    "    cursor = db_conn.cursor()\n",
    "\n",
    "    # Fetch the table names.\n",
    "    cursor.execute(\"SELECT name FROM sqlite_master WHERE type='table';\")\n",
    "\n",
    "    tables = cursor.fetchall()\n",
    "    return [t[0] for t in tables]\n",
    "\n",
    "\n",
    "list_tables()"
   ]
  },
  {
   "cell_type": "markdown",
   "metadata": {
    "id": "b6c010b1b6c2"
   },
   "source": [
    "Once the available tables is known, the next step a database user will need is to understand what columns are available in a given table. Define that too, and test that it works as expected."
   ]
  },
  {
   "cell_type": "code",
   "execution_count": 9,
   "metadata": {
    "execution": {
     "iopub.execute_input": "2025-03-17T19:55:39.010722Z",
     "iopub.status.busy": "2025-03-17T19:55:39.009728Z",
     "iopub.status.idle": "2025-03-17T19:55:39.021683Z",
     "shell.execute_reply": "2025-03-17T19:55:39.020421Z",
     "shell.execute_reply.started": "2025-03-17T19:55:39.010676Z"
    },
    "id": "ecdb109298c4",
    "trusted": true
   },
   "outputs": [
    {
     "name": "stdout",
     "output_type": "stream",
     "text": [
      " - DB CALL: describe_table\n"
     ]
    },
    {
     "data": {
      "text/plain": [
       "[('product_id', 'INTEGER'),\n",
       " ('product_name', 'VARCHAR(255)'),\n",
       " ('price', 'DECIMAL(10, 2)')]"
      ]
     },
     "execution_count": 9,
     "metadata": {},
     "output_type": "execute_result"
    }
   ],
   "source": [
    "def describe_table(table_name: str) -> list[tuple[str, str]]:\n",
    "    \"\"\"Look up the table schema.\n",
    "\n",
    "    Returns:\n",
    "      List of columns, where each entry is a tuple of (column, type).\n",
    "    \"\"\"\n",
    "    print(' - DB CALL: describe_table')\n",
    "\n",
    "    cursor = db_conn.cursor()\n",
    "\n",
    "    cursor.execute(f\"PRAGMA table_info({table_name});\")\n",
    "\n",
    "    schema = cursor.fetchall()\n",
    "    # [column index, column name, column type, ...]\n",
    "    return [(col[1], col[2]) for col in schema]\n",
    "\n",
    "\n",
    "describe_table(\"products\")"
   ]
  },
  {
   "cell_type": "markdown",
   "metadata": {
    "id": "f6053a2ca272"
   },
   "source": [
    "Now that the system knows what tables and columns are present, it has enough information to be able to generate and run a `SELECT` query. Now provide that functionality, and test that it works."
   ]
  },
  {
   "cell_type": "code",
   "execution_count": 10,
   "metadata": {
    "execution": {
     "iopub.execute_input": "2025-03-17T19:55:46.976921Z",
     "iopub.status.busy": "2025-03-17T19:55:46.976497Z",
     "iopub.status.idle": "2025-03-17T19:55:46.985449Z",
     "shell.execute_reply": "2025-03-17T19:55:46.984389Z",
     "shell.execute_reply.started": "2025-03-17T19:55:46.976884Z"
    },
    "id": "9e405db8b3f6",
    "trusted": true
   },
   "outputs": [
    {
     "name": "stdout",
     "output_type": "stream",
     "text": [
      " - DB CALL: execute_query\n"
     ]
    },
    {
     "data": {
      "text/plain": [
       "[(1, 'Laptop', 799.99), (2, 'Keyboard', 129.99), (3, 'Mouse', 29.99)]"
      ]
     },
     "execution_count": 10,
     "metadata": {},
     "output_type": "execute_result"
    }
   ],
   "source": [
    "def execute_query(sql: str) -> list[list[str]]:\n",
    "    \"\"\"Execute a SELECT statement, returning the results.\"\"\"\n",
    "    print(' - DB CALL: execute_query')\n",
    "\n",
    "    cursor = db_conn.cursor()\n",
    "\n",
    "    cursor.execute(sql)\n",
    "    return cursor.fetchall()\n",
    "\n",
    "\n",
    "execute_query(\"select * from products\")"
   ]
  },
  {
   "cell_type": "code",
   "execution_count": 11,
   "metadata": {
    "execution": {
     "iopub.execute_input": "2025-03-17T19:55:53.528780Z",
     "iopub.status.busy": "2025-03-17T19:55:53.528364Z",
     "iopub.status.idle": "2025-03-17T19:55:53.799156Z",
     "shell.execute_reply": "2025-03-17T19:55:53.798228Z",
     "shell.execute_reply.started": "2025-03-17T19:55:53.528740Z"
    },
    "id": "f4839540066d",
    "trusted": true
   },
   "outputs": [],
   "source": [
    "# These are the Python functions defined above.\n",
    "db_tools = [list_tables, describe_table, execute_query]\n",
    "\n",
    "instruction = \"\"\"You are a helpful chatbot that can interact with an SQL database for a computer\n",
    "store. You will take the users questions and turn them into SQL queries using the tools\n",
    "available. Once you have the information you need, you will answer the user's question using\n",
    "the data returned. Use list_tables to see what tables are present, describe_table to understand\n",
    "the schema, and execute_query to issue an SQL SELECT query.\"\"\"\n",
    "\n",
    "model = genai.GenerativeModel(\n",
    "    \"models/gemini-1.5-flash-latest\", tools=db_tools, system_instruction=instruction\n",
    ")\n",
    "\n",
    "# Define a retry policy. The model might make multiple consecutive calls automatically\n",
    "# for a complex query, this ensures the client retries if it hits quota limits.\n",
    "from google.api_core import retry\n",
    "\n",
    "retry_policy = {\"retry\": retry.Retry(predicate=retry.if_transient_error)}\n",
    "\n",
    "# Start a chat with automatic function calling enabled.\n",
    "chat = model.start_chat(enable_automatic_function_calling=True)"
   ]
  },
  {
   "cell_type": "markdown",
   "metadata": {
    "id": "5f120977f1ee"
   },
   "source": [
    "Now you can engage in a chat conversation where you can ask about the contents of the database."
   ]
  },
  {
   "cell_type": "code",
   "execution_count": 12,
   "metadata": {
    "execution": {
     "iopub.execute_input": "2025-03-17T19:55:57.618834Z",
     "iopub.status.busy": "2025-03-17T19:55:57.618419Z",
     "iopub.status.idle": "2025-03-17T19:55:59.490516Z",
     "shell.execute_reply": "2025-03-17T19:55:59.489287Z",
     "shell.execute_reply.started": "2025-03-17T19:55:57.618771Z"
    },
    "id": "111cfb79338b",
    "trusted": true
   },
   "outputs": [
    {
     "name": "stdout",
     "output_type": "stream",
     "text": [
      " - DB CALL: list_tables\n",
      " - DB CALL: describe_table\n",
      " - DB CALL: execute_query\n",
      "The cheapest product is the Mouse, costing $29.99.\n"
     ]
    }
   ],
   "source": [
    "resp = chat.send_message(\"What is the cheapest product?\", request_options=retry_policy)\n",
    "print(resp.text)"
   ]
  },
  {
   "cell_type": "markdown",
   "metadata": {
    "id": "43595d4ef920"
   },
   "source": [
    "If you re-use the same [`ChatSession`](https://github.com/google-gemini/generative-ai-python/blob/main/docs/api/google/generativeai/ChatSession.md) object, the conversation will continue statefully. If you wish to start fresh, you can call [`start_chat`](https://github.com/google-gemini/generative-ai-python/blob/main/docs/api/google/generativeai/GenerativeModel.md#start_chat) again, or call [`rewind`](https://github.com/google-gemini/generative-ai-python/blob/main/docs/api/google/generativeai/ChatSession.md#rewind) on the chat object to go back a turn.\n",
    "\n",
    "Continue the chat here by asking a follow-up question. Note that the database information is preserved, and the context of the specific product is inferred."
   ]
  },
  {
   "cell_type": "code",
   "execution_count": 13,
   "metadata": {
    "execution": {
     "iopub.execute_input": "2025-03-17T19:56:03.680372Z",
     "iopub.status.busy": "2025-03-17T19:56:03.679969Z",
     "iopub.status.idle": "2025-03-17T19:56:04.023831Z",
     "shell.execute_reply": "2025-03-17T19:56:04.022694Z",
     "shell.execute_reply.started": "2025-03-17T19:56:03.680338Z"
    },
    "id": "647cbcc43993",
    "trusted": true
   },
   "outputs": [
    {
     "name": "stdout",
     "output_type": "stream",
     "text": [
      "The Mouse costs $29.99.\n",
      "\n"
     ]
    }
   ],
   "source": [
    "resp = chat.send_message(\"and how much is it?\", request_options=retry_policy)\n",
    "print(resp.text)"
   ]
  },
  {
   "cell_type": "code",
   "execution_count": 14,
   "metadata": {
    "execution": {
     "iopub.execute_input": "2025-03-17T19:56:57.826023Z",
     "iopub.status.busy": "2025-03-17T19:56:57.825062Z",
     "iopub.status.idle": "2025-03-17T19:56:58.956002Z",
     "shell.execute_reply": "2025-03-17T19:56:58.954745Z",
     "shell.execute_reply.started": "2025-03-17T19:56:57.825980Z"
    },
    "trusted": true
   },
   "outputs": [
    {
     "name": "stdout",
     "output_type": "stream",
     "text": [
      " - DB CALL: execute_query\n",
      "The most expensive product is the Laptop, costing $799.99.\n",
      "\n",
      "The Laptop is $799.99.\n",
      "\n"
     ]
    }
   ],
   "source": [
    "resp = chat.send_message(\"What is the most expensive product?\", request_options=retry_policy)\n",
    "print(resp.text)\n",
    "resp = chat.send_message(\"and how much is it?\", request_options=retry_policy)\n",
    "print(resp.text)"
   ]
  },
  {
   "cell_type": "markdown",
   "metadata": {
    "id": "d67f635191c8"
   },
   "source": [
    "Explore the chat session and ask your own questions. If you want to try asking more complex questions, try using the `gemini-1.5-pro` model. It has a lower rate limit, so calls might take a bit longer on the free tier, but you'll notice an improvement in expressivity."
   ]
  },
  {
   "cell_type": "code",
   "execution_count": 15,
   "metadata": {
    "execution": {
     "iopub.execute_input": "2025-03-17T19:57:11.647779Z",
     "iopub.status.busy": "2025-03-17T19:57:11.646734Z",
     "iopub.status.idle": "2025-03-17T19:58:33.163188Z",
     "shell.execute_reply": "2025-03-17T19:58:33.161843Z",
     "shell.execute_reply.started": "2025-03-17T19:57:11.647735Z"
    },
    "id": "647cbcc43993",
    "trusted": true
   },
   "outputs": [
    {
     "name": "stdout",
     "output_type": "stream",
     "text": [
      " - DB CALL: list_tables\n",
      " - DB CALL: describe_table\n",
      " - DB CALL: describe_table\n",
      " - DB CALL: describe_table\n",
      " - DB CALL: execute_query\n",
      "Alice Smith sold the cheapest product.\n"
     ]
    }
   ],
   "source": [
    "model = genai.GenerativeModel(\n",
    "    \"models/gemini-1.5-pro-latest\", tools=db_tools, system_instruction=instruction\n",
    ")\n",
    "\n",
    "chat = model.start_chat(enable_automatic_function_calling=True)\n",
    "response = chat.send_message('Which salesperson sold the cheapest product?', request_options=retry_policy)\n",
    "print(response.text)"
   ]
  },
  {
   "cell_type": "markdown",
   "metadata": {
    "id": "1f5bb6d9bd6a"
   },
   "source": [
    "### Inspecting the conversation\n",
    "\n",
    "To see the calls that the model makes, and what the client returns in response, you can inspect `chat.history`. This helper function will print out each turn along with the relevant fields passed or returned."
   ]
  },
  {
   "cell_type": "code",
   "execution_count": 16,
   "metadata": {
    "execution": {
     "iopub.execute_input": "2025-03-17T19:59:31.110850Z",
     "iopub.status.busy": "2025-03-17T19:59:31.109970Z",
     "iopub.status.idle": "2025-03-17T19:59:31.120296Z",
     "shell.execute_reply": "2025-03-17T19:59:31.119153Z",
     "shell.execute_reply.started": "2025-03-17T19:59:31.110773Z"
    },
    "id": "639963cc64e2",
    "trusted": true
   },
   "outputs": [
    {
     "name": "stdout",
     "output_type": "stream",
     "text": [
      "User:\n",
      "  \"Which salesperson sold the cheapest product?\"\n",
      "\n",
      "Model:\n",
      "  Function call: list_tables()\n",
      "\n",
      "User:\n",
      "  Function response:\n",
      "    name: \"list_tables\"\n",
      "    response {\n",
      "      fields {\n",
      "        key: \"result\"\n",
      "        value {\n",
      "          list_value {\n",
      "            values {\n",
      "              string_value: \"products\"\n",
      "            }\n",
      "            values {\n",
      "              string_value: \"sqlite_sequence\"\n",
      "            }\n",
      "            values {\n",
      "              string_value: \"staff\"\n",
      "            }\n",
      "            values {\n",
      "              string_value: \"orders\"\n",
      "            }\n",
      "          }\n",
      "        }\n",
      "      }\n",
      "    }\n",
      "\n",
      "\n",
      "Model:\n",
      "  Function call: describe_table(table_name=products)\n",
      "\n",
      "User:\n",
      "  Function response:\n",
      "    name: \"describe_table\"\n",
      "    response {\n",
      "      fields {\n",
      "        key: \"result\"\n",
      "        value {\n",
      "          list_value {\n",
      "            values {\n",
      "              list_value {\n",
      "                values {\n",
      "                  string_value: \"product_id\"\n",
      "                }\n",
      "                values {\n",
      "                  string_value: \"INTEGER\"\n",
      "                }\n",
      "              }\n",
      "            }\n",
      "            values {\n",
      "              list_value {\n",
      "                values {\n",
      "                  string_value: \"product_name\"\n",
      "                }\n",
      "                values {\n",
      "                  string_value: \"VARCHAR(255)\"\n",
      "                }\n",
      "              }\n",
      "            }\n",
      "            values {\n",
      "              list_value {\n",
      "                values {\n",
      "                  string_value: \"price\"\n",
      "                }\n",
      "                values {\n",
      "                  string_value: \"DECIMAL(10, 2)\"\n",
      "                }\n",
      "              }\n",
      "            }\n",
      "          }\n",
      "        }\n",
      "      }\n",
      "    }\n",
      "\n",
      "\n",
      "Model:\n",
      "  Function call: describe_table(table_name=staff)\n",
      "\n",
      "User:\n",
      "  Function response:\n",
      "    name: \"describe_table\"\n",
      "    response {\n",
      "      fields {\n",
      "        key: \"result\"\n",
      "        value {\n",
      "          list_value {\n",
      "            values {\n",
      "              list_value {\n",
      "                values {\n",
      "                  string_value: \"staff_id\"\n",
      "                }\n",
      "                values {\n",
      "                  string_value: \"INTEGER\"\n",
      "                }\n",
      "              }\n",
      "            }\n",
      "            values {\n",
      "              list_value {\n",
      "                values {\n",
      "                  string_value: \"first_name\"\n",
      "                }\n",
      "                values {\n",
      "                  string_value: \"VARCHAR(255)\"\n",
      "                }\n",
      "              }\n",
      "            }\n",
      "            values {\n",
      "              list_value {\n",
      "                values {\n",
      "                  string_value: \"last_name\"\n",
      "                }\n",
      "                values {\n",
      "                  string_value: \"VARCHAR(255)\"\n",
      "                }\n",
      "              }\n",
      "            }\n",
      "          }\n",
      "        }\n",
      "      }\n",
      "    }\n",
      "\n",
      "\n",
      "Model:\n",
      "  Function call: describe_table(table_name=orders)\n",
      "\n",
      "User:\n",
      "  Function response:\n",
      "    name: \"describe_table\"\n",
      "    response {\n",
      "      fields {\n",
      "        key: \"result\"\n",
      "        value {\n",
      "          list_value {\n",
      "            values {\n",
      "              list_value {\n",
      "                values {\n",
      "                  string_value: \"order_id\"\n",
      "                }\n",
      "                values {\n",
      "                  string_value: \"INTEGER\"\n",
      "                }\n",
      "              }\n",
      "            }\n",
      "            values {\n",
      "              list_value {\n",
      "                values {\n",
      "                  string_value: \"customer_name\"\n",
      "                }\n",
      "                values {\n",
      "                  string_value: \"VARCHAR(255)\"\n",
      "                }\n",
      "              }\n",
      "            }\n",
      "            values {\n",
      "              list_value {\n",
      "                values {\n",
      "                  string_value: \"staff_id\"\n",
      "                }\n",
      "                values {\n",
      "                  string_value: \"INTEGER\"\n",
      "                }\n",
      "              }\n",
      "            }\n",
      "            values {\n",
      "              list_value {\n",
      "                values {\n",
      "                  string_value: \"product_id\"\n",
      "                }\n",
      "                values {\n",
      "                  string_value: \"INTEGER\"\n",
      "                }\n",
      "              }\n",
      "            }\n",
      "          }\n",
      "        }\n",
      "      }\n",
      "    }\n",
      "\n",
      "\n",
      "Model:\n",
      "  Function call: execute_query(sql=SELECT staff.first_name, staff.last_name FROM orders INNER JOIN products ON orders.product_id = products.product_id INNER JOIN staff ON orders.staff_id = staff.staff_id ORDER BY products.price ASC LIMIT 1)\n",
      "\n",
      "User:\n",
      "  Function response:\n",
      "    name: \"execute_query\"\n",
      "    response {\n",
      "      fields {\n",
      "        key: \"result\"\n",
      "        value {\n",
      "          list_value {\n",
      "            values {\n",
      "              list_value {\n",
      "                values {\n",
      "                  string_value: \"Alice\"\n",
      "                }\n",
      "                values {\n",
      "                  string_value: \"Smith\"\n",
      "                }\n",
      "              }\n",
      "            }\n",
      "          }\n",
      "        }\n",
      "      }\n",
      "    }\n",
      "\n",
      "\n",
      "Model:\n",
      "  \"Alice Smith sold the cheapest product.\"\n",
      "\n"
     ]
    }
   ],
   "source": [
    "import textwrap\n",
    "\n",
    "\n",
    "def print_chat_turns(chat):\n",
    "    \"\"\"Prints out each turn in the chat history, including function calls and responses.\"\"\"\n",
    "    for event in chat.history:\n",
    "        print(f\"{event.role.capitalize()}:\")\n",
    "\n",
    "        for part in event.parts:\n",
    "            if txt := part.text:\n",
    "                print(f'  \"{txt}\"')\n",
    "            elif fn := part.function_call:\n",
    "                args = \", \".join(f\"{key}={val}\" for key, val in fn.args.items())\n",
    "                print(f\"  Function call: {fn.name}({args})\")\n",
    "            elif resp := part.function_response:\n",
    "                print(\"  Function response:\")\n",
    "                print(textwrap.indent(str(resp), \"    \"))\n",
    "\n",
    "        print()\n",
    "\n",
    "\n",
    "print_chat_turns(chat)"
   ]
  },
  {
   "cell_type": "markdown",
   "metadata": {
    "id": "8a17aeb2a3ef"
   },
   "source": [
    "In this output you can see each of the conversational turns that were made. Note that the model doesn't remember anything outside of a `ChatSession` object, so you can make changes to the database structure or data and the model will respond without needing any code changes - try this out!"
   ]
  }
 ],
 "metadata": {
  "colab": {
   "name": "day-3-function-calling-with-the-gemini-api.ipynb",
   "toc_visible": true
  },
  "kaggle": {
   "accelerator": "none",
   "dataSources": [],
   "dockerImageVersionId": 30786,
   "isGpuEnabled": false,
   "isInternetEnabled": true,
   "language": "python",
   "sourceType": "notebook"
  },
  "kernelspec": {
   "display_name": "Python 3",
   "language": "python",
   "name": "python3"
  },
  "language_info": {
   "codemirror_mode": {
    "name": "ipython",
    "version": 3
   },
   "file_extension": ".py",
   "mimetype": "text/x-python",
   "name": "python",
   "nbconvert_exporter": "python",
   "pygments_lexer": "ipython3",
   "version": "3.10.14"
  }
 },
 "nbformat": 4,
 "nbformat_minor": 4
}
